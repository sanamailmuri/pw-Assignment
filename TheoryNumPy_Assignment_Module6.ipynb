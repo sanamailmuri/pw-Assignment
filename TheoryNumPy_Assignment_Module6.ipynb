{
  "nbformat": 4,
  "nbformat_minor": 0,
  "metadata": {
    "colab": {
      "provenance": []
    },
    "kernelspec": {
      "name": "python3",
      "display_name": "Python 3"
    },
    "language_info": {
      "name": "python"
    }
  },
  "cells": [
    {
      "cell_type": "markdown",
      "source": [
        "# Theory Question\n"
      ],
      "metadata": {
        "id": "Fo6CYkLE5k-I"
      }
    },
    {
      "cell_type": "markdown",
      "source": [
        "#### Ques 1:- Explain the purpose and advantage of numpy in scientific computing and data analysis. How does it enhance Python's for numerical operations?\n",
        "\n",
        "\n",
        "**Answer** :- The purpose and advantage of NumPy in scientific computing and data analysis stem from its efficiency, flexibility, and powerful functionality for handling numerical data. Here's how NumPy enhances Python for numerical operations:\n",
        "\n",
        "**Efficient Multi-dimensional Arrays (ndarrays)**\n",
        "\n",
        "**Purpose:**\n",
        "\n",
        "At the core of NumPy is its ndarray, a multi-dimensional array object that allows for the efficient storage and manipulation of large datasets.\n",
        "\n",
        "**Advantage:**\n",
        "\n",
        " Unlike Python lists, NumPy arrays are stored in continuous memory blocks, enabling faster data access and processing. They also support operations on multi-dimensional data (2D matrices, 3D tensors, etc.) in a way that’s much more efficient and scalable than Python's built-in data structures."
      ],
      "metadata": {
        "id": "uiRtFXIC5vAf"
      }
    },
    {
      "cell_type": "code",
      "source": [
        "import numpy as np\n",
        "array = np.array([[1, 2, 3], [4, 5, 6]])"
      ],
      "metadata": {
        "id": "9DnsReOc5uKW"
      },
      "execution_count": 1,
      "outputs": []
    },
    {
      "cell_type": "markdown",
      "source": [
        "**Vectorized Operations**\n",
        "\n",
        "**Purpose:** NumPy allows you to perform element-wise operations on entire arrays without writing loops, known as vectorization.\n",
        "\n",
        "**Advantage:** This makes operations much faster than Python's built-in loops or list comprehensions. For large datasets, this efficiency boost is crucial."
      ],
      "metadata": {
        "id": "mcsj1TPd6mvi"
      }
    },
    {
      "cell_type": "code",
      "source": [
        "# Vectorized addition\n",
        "a = np.array([1, 2, 3])\n",
        "b = np.array([4, 5, 6])\n",
        "c = a + b  # Element-wise addition without explicit loops"
      ],
      "metadata": {
        "id": "Irc5Z8jb6lFr"
      },
      "execution_count": 2,
      "outputs": []
    },
    {
      "cell_type": "markdown",
      "source": [
        "**Broadcasting**\n",
        "\n",
        "\n",
        "**Purpose:**\n",
        "\n",
        "Broadcasting in NumPy enables operations on arrays of different shapes and sizes without the need for complex reshaping or loops.\n",
        "\n",
        "**Advantage:**\n",
        "\n",
        " This feature simplifies code and makes it more intuitive. Instead of forcing arrays to be the same shape, NumPy handles the alignment for you, which is great for matrix operations, element-wise calculations, and more."
      ],
      "metadata": {
        "id": "Yso0HEVY7Iaf"
      }
    },
    {
      "cell_type": "code",
      "source": [
        "# Broadcasting a scalar value across an array\n",
        "a = np.array([1, 2, 3])\n",
        "b = a * 2  # The scalar 2 is \"broadcast\" across the array"
      ],
      "metadata": {
        "id": "FDNFUlIP7H3Q"
      },
      "execution_count": 3,
      "outputs": []
    },
    {
      "cell_type": "markdown",
      "source": [
        "####Ques 2:- Compare and contrast np.mean() and np.average() functions in Numpy. When whould you use one over the other?\n",
        "\n",
        "**Answer**:-  In NumPy, both np.mean() and np.average() are used to calculate the central tendency of an array, but they have subtle differences in functionality and application. Let's break down these two functions and understand when to use one over the other.\n",
        "\n",
        "**np.mean()**\n",
        "\n",
        "**Purpose:** np.mean() calculates the arithmetic mean (average) of the elements in the array along a specified axis.\n",
        "\n",
        "**How it works:** It simply sums up all the values and divides by the total number of elements, regardless of any weighting."
      ],
      "metadata": {
        "id": "n33jNhCW7XBn"
      }
    },
    {
      "cell_type": "code",
      "source": [
        "np.mean(a, axis=None, dtype=None)"
      ],
      "metadata": {
        "colab": {
          "base_uri": "https://localhost:8080/"
        },
        "id": "d0B8zXeO-AVb",
        "outputId": "97507877-13a7-45f4-a272-c2479d666553"
      },
      "execution_count": 5,
      "outputs": [
        {
          "output_type": "execute_result",
          "data": {
            "text/plain": [
              "2.0"
            ]
          },
          "metadata": {},
          "execution_count": 5
        }
      ]
    },
    {
      "cell_type": "code",
      "source": [
        "import numpy as np\n",
        "a = np.array([1, 2, 3, 4, 5])\n",
        "print(np.mean(a))"
      ],
      "metadata": {
        "colab": {
          "base_uri": "https://localhost:8080/"
        },
        "id": "kW3Fcy2z-BA_",
        "outputId": "ba55bbbe-b38b-41fd-a3a0-9e4fb9ce2e80"
      },
      "execution_count": 6,
      "outputs": [
        {
          "output_type": "stream",
          "name": "stdout",
          "text": [
            "3.0\n"
          ]
        }
      ]
    },
    {
      "cell_type": "markdown",
      "source": [
        "**np.average()**\n",
        "\n",
        "**Purpose:** np.average() computes the weighted average of the elements in the array. If no weights are specified, it behaves the same as np.mean().\n",
        "\n",
        "**How it works:** You can pass a weights parameter, allowing certain values to contribute more to the final average than others."
      ],
      "metadata": {
        "id": "bYboOpqv-MLK"
      }
    },
    {
      "cell_type": "code",
      "source": [
        "a = np.array([1, 2, 3, 4, 5])\n",
        "print(np.average(a))"
      ],
      "metadata": {
        "colab": {
          "base_uri": "https://localhost:8080/"
        },
        "id": "Z5fFq-s_-JbG",
        "outputId": "d537dfae-8f76-4e1f-cad2-c464241c54a3"
      },
      "execution_count": 7,
      "outputs": [
        {
          "output_type": "stream",
          "name": "stdout",
          "text": [
            "3.0\n"
          ]
        }
      ]
    },
    {
      "cell_type": "markdown",
      "source": [
        "####Ques 3:- Describe the method for reversing a Numpy array along different axes. Provide example for 1D and 2D arrays.\n",
        "\n",
        "**Answer**  To reverse a NumPy array along different axes, we can use slicing and specific NumPy functions. Here's a step-by-step explanation of the method and examples for 1D and 2D arrays.\n",
        "\n",
        "###Reversing a NumPy Array Using Slicing\n",
        "In NumPy, arrays can be reversed by slicing with a step of -1. The general syntax for reversing along an axis is:"
      ],
      "metadata": {
        "id": "vQ1NWmcXGeO5"
      }
    },
    {
      "cell_type": "code",
      "source": [
        "array[::-1]\n",
        "array[::-1, :]\n",
        "array[:, ::-1]"
      ],
      "metadata": {
        "colab": {
          "base_uri": "https://localhost:8080/"
        },
        "id": "KFb9_ZibGXVa",
        "outputId": "27935525-8c73-4bf9-975a-032fe40ce8bb"
      },
      "execution_count": 8,
      "outputs": [
        {
          "output_type": "execute_result",
          "data": {
            "text/plain": [
              "array([[3, 2, 1],\n",
              "       [6, 5, 4]])"
            ]
          },
          "metadata": {},
          "execution_count": 8
        }
      ]
    },
    {
      "cell_type": "markdown",
      "source": [
        "**Example 1: Reversing a 1D NumPy Array**\n",
        "\n",
        "Let's reverse a simple 1D array using slicing."
      ],
      "metadata": {
        "id": "ha8JbdhMHGDB"
      }
    },
    {
      "cell_type": "code",
      "source": [
        "import numpy as np\n",
        "\n",
        "# Define a 1D array\n",
        "arr_1d = np.array([1, 2, 3, 4, 5])\n",
        "\n",
        "# Reverse the 1D array\n",
        "reversed_arr_1d = arr_1d[::-1]\n",
        "\n",
        "print(\"Original 1D array:\", arr_1d)\n",
        "print(\"Reversed 1D array:\", reversed_arr_1d)"
      ],
      "metadata": {
        "colab": {
          "base_uri": "https://localhost:8080/"
        },
        "id": "viyjEUSKHE7R",
        "outputId": "dd645ee8-b99a-42bd-eae9-ea7429459f92"
      },
      "execution_count": 9,
      "outputs": [
        {
          "output_type": "stream",
          "name": "stdout",
          "text": [
            "Original 1D array: [1 2 3 4 5]\n",
            "Reversed 1D array: [5 4 3 2 1]\n"
          ]
        }
      ]
    },
    {
      "cell_type": "markdown",
      "source": [
        "###Example 2: Reversing a 2D NumPy Array Along Different Axes\n",
        "For 2D arrays, we can reverse along either axis (rows or columns).\n",
        "\n",
        "Reversing Rows (First Axis)\n",
        "\n",
        "To reverse the rows (flip along the vertical axis), we use slicing like this: [::-1, :]."
      ],
      "metadata": {
        "id": "zebPjGYPHYe-"
      }
    },
    {
      "cell_type": "code",
      "source": [
        "# Define a 2D array\n",
        "arr_2d = np.array([[1, 2, 3], [4, 5, 6], [7, 8, 9]])\n",
        "\n",
        "# Reverse the rows (first axis)\n",
        "reversed_rows = arr_2d[::-1, :]\n",
        "\n",
        "print(\"Original 2D array:\")\n",
        "print(arr_2d)\n",
        "\n",
        "print(\"Reversed along rows:\")\n",
        "print(reversed_rows)"
      ],
      "metadata": {
        "colab": {
          "base_uri": "https://localhost:8080/"
        },
        "id": "R32PgvjoHRLw",
        "outputId": "273a474a-89e9-4e5b-ff81-28b249adf1ba"
      },
      "execution_count": 10,
      "outputs": [
        {
          "output_type": "stream",
          "name": "stdout",
          "text": [
            "Original 2D array:\n",
            "[[1 2 3]\n",
            " [4 5 6]\n",
            " [7 8 9]]\n",
            "Reversed along rows:\n",
            "[[7 8 9]\n",
            " [4 5 6]\n",
            " [1 2 3]]\n"
          ]
        }
      ]
    },
    {
      "cell_type": "markdown",
      "source": [
        "####Ques 4:- How can you determine the data type of elements in a Numpy array? Discuss the importance of data types in memory management and performance.\n",
        "\n",
        "**Answer**  **Determining the Data Type of Elements in a NumPy Array**\n",
        "\n",
        "You can determine the data type of the elements in a NumPy array using the .dtype attribute. This attribute gives you information about the data type of the elements stored in the array."
      ],
      "metadata": {
        "id": "_o17xXUGHms2"
      }
    },
    {
      "cell_type": "code",
      "source": [
        "import numpy as np\n",
        "\n",
        "# Define a NumPy array\n",
        "arr = np.array([1, 2, 3, 4, 5])\n",
        "\n",
        "# Check the data type of elements in the array\n",
        "print(arr.dtype)  # Output: int64 (or int32 depending on the system)"
      ],
      "metadata": {
        "colab": {
          "base_uri": "https://localhost:8080/"
        },
        "id": "2jywgcpTHh6v",
        "outputId": "75996f28-8608-46b6-b427-3d8b2577e22d"
      },
      "execution_count": 11,
      "outputs": [
        {
          "output_type": "stream",
          "name": "stdout",
          "text": [
            "int64\n"
          ]
        }
      ]
    },
    {
      "cell_type": "markdown",
      "source": [
        "**Importance of Data Types in Memory Management and Performance**\n",
        "\n",
        "Data types in NumPy are crucial because they determine how data is stored in memory, which affects both memory efficiency and computational performance. Here's a breakdown of their significance:\n",
        "\n",
        "**Memory Efficiency**\n",
        "Data types determine memory usage: Different data types consume different amounts of memory. For example, an int32 (32-bit integer) consumes 4 bytes of memory per element, while an int64 (64-bit integer) consumes 8 bytes. Similarly, float32 uses 4 bytes, whereas float64 uses 8 bytes.\n",
        "\n",
        "**Performance Optimization**\n",
        "Smaller data types lead to faster computations: Since smaller data types consume less memory, they lead to faster memory access and data transfer between CPU registers and RAM. Operations on arrays with smaller data types like int32 or float32 can be performed faster than those using larger types like int64 or float64.\n",
        "\n",
        "**Precision and Range of Data**\n",
        "Precision matters for scientific computing: For computations that require a high degree of accuracy, like certain machine learning models or simulations, you may need to use float64 (or higher precision types). If precision isn’t as important, using float32 can save memory and improve performance."
      ],
      "metadata": {
        "id": "UTr0jOzWIPsx"
      }
    },
    {
      "cell_type": "markdown",
      "source": [
        "####Ques 5:- Define ndarrays in NumPy and explain their key features. How do they differ from standard Python lists?\n",
        "\n",
        "**Answer**  In NumPy, an ndarray (N-dimensional array) is the primary data structure used for handling large, multi-dimensional arrays and matrices of numerical data. It is a highly efficient and flexible container that allows for fast mathematical and logical operations on arrays of any shape and size.\n",
        "\n",
        "**Definition of ndarray**\n",
        "\n",
        "An ndarray is a multidimensional array of elements, where all elements are of the same type, and the number of dimensions (also called axes) is specified during creation. The ndarray object provides a range of powerful capabilities to handle data more efficiently compared to Python’s standard lists.\n",
        "\n",
        "**Creating an ndarray:**\n",
        "You can create an ndarray in NumPy by passing a list or other sequences to the np.array() function."
      ],
      "metadata": {
        "id": "deHAzE0QIkuy"
      }
    },
    {
      "cell_type": "code",
      "source": [
        "import numpy as np\n",
        "\n",
        "# Create a 1D ndarray\n",
        "arr_1d = np.array([1, 2, 3, 4])\n",
        "\n",
        "# Create a 2D ndarray\n",
        "arr_2d = np.array([[1, 2, 3], [4, 5, 6]])"
      ],
      "metadata": {
        "id": "ecPRGOGlIJCF"
      },
      "execution_count": 12,
      "outputs": []
    },
    {
      "cell_type": "markdown",
      "source": [
        "####Ques 6:- Analyze the performance benefits of NumPy arrays over Python lists for large-scale numerical operations.\n",
        "\n",
        "**Answer** NumPy arrays offer significant performance benefits over Python lists, particularly for large-scale numerical operations. These advantages stem from how NumPy arrays are implemented and how they handle memory, computation, and data types. Below is a detailed analysis of the key factors contributing to NumPy's performance superiority:\n",
        "\n",
        "1. **Contiguous Memory Allocation**\n",
        "\n",
        "NumPy arrays are stored in contiguous blocks of memory, meaning that all elements are placed next to each other in memory. This makes access to elements much faster because the CPU can efficiently retrieve consecutive values without following pointers or navigating through complex memory structures.\n",
        "\n",
        "In contrast, Python lists are stored as arrays of pointers to objects. Each element in a list is a reference to a separate memory location, leading to more memory overhead and slower access times due to the need to dereference these pointers.\n",
        "2. **Homogeneous Data Types**\n",
        "\n",
        "NumPy arrays enforce homogeneous data types, meaning that all elements in the array must be of the same type (e.g., all integers, all floats). This uniformity allows NumPy to optimize storage and computation. For example, an array of 32-bit integers can be stored in a block of memory using just 4 bytes per element.\n",
        "\n",
        "Python lists are heterogeneous, meaning that they can contain elements of different types (integers, strings, objects, etc.). As a result, Python lists are less memory efficient and require additional overhead to handle varying data types.\n",
        "\n",
        "3. **Vectorized Operations (Element-wise Operations)**\n",
        "NumPy arrays allow for vectorized operations, meaning that arithmetic and logical operations can be applied to the entire array at once without needing to loop through individual elements. This avoids the overhead of Python loops and speeds up computation.\n",
        "\n",
        "Python lists require explicit loops to perform operations on each element, which is much slower because of Python’s interpreted nature and the need to handle individual data types and objects in memory.\n",
        "\n",
        "4. **Optimized Underlying Libraries (C and Fortran)**\n",
        "NumPy is implemented in C and Fortran, which are much faster than Python’s interpreted loops. When you perform operations on a NumPy array, the heavy lifting is done by these low-level languages, making operations orders of magnitude faster.\n",
        "\n",
        "Python lists, on the other hand, rely on Python’s interpreted loops and cannot take advantage of these low-level optimizations."
      ],
      "metadata": {
        "id": "4NyV-_NCJICZ"
      }
    },
    {
      "cell_type": "markdown",
      "source": [
        "####Ques 7:- Compare vstack() and hstack() functions in Numpy. Provide examples demonstrating their usage and output.\n",
        "\n",
        "**Answer**  In NumPy, the functions vstack() and hstack() are used to stack arrays either vertically (row-wise) or horizontally (column-wise). Both functions are useful for combining arrays of compatible shapes, but they operate along different axes.\n",
        "\n",
        "1. **numpy.vstack()**\n",
        "\n",
        "Purpose: Stacks arrays vertically (i.e., along rows). It combines arrays row-wise, adding new rows to the bottom of the existing array.\n",
        "\n",
        "Axis: It stacks along the first axis (axis 0).\n",
        "Shape Requirement: Arrays must have the same number of columns (i.e., the second dimension must match).\n",
        "\n",
        "**numpy.hstack()**\n",
        "\n",
        "Purpose: Stacks arrays horizontally (i.e., along columns). It combines arrays column-wise, adding new columns to the right of the existing array.\n",
        "\n",
        "Axis: It stacks along the second axis (axis 1).\n",
        "\n",
        "Shape Requirement: Arrays must have the same number of rows (i.e., the first dimension must match)."
      ],
      "metadata": {
        "id": "qEBVyb3FK3qH"
      }
    },
    {
      "cell_type": "markdown",
      "source": [
        "####Ques 8:- Explain the differences between flipir() and flipud() methods in NumPy, including their effects on various array dimensions.\n",
        "\n",
        "**Answer**:- In NumPy, the functions flipud() and fliplr() are used to reverse the order of elements along specific axes of an array. These functions are particularly useful for reversing the orientation of 2D arrays, such as flipping images or matrices. However, they operate along different axes and thus produce different effects.\n",
        "\n",
        "1. **numpy.flipud() (Flip Up-Down)**\n",
        "Purpose: Flips an array vertically (up-down), reversing the order of the rows along the first axis (axis 0).\n",
        "\n",
        "Effect: The first row becomes the last row, the second row becomes the second-to-last row, and so on. The columns remain unchanged.\n",
        "\n",
        "Applicability: Works on arrays of any dimension, but the flipping is only applied along the vertical axis (rows).\n",
        "\n",
        "2. **numpy.fliplr() (Flip Left-Right)**\n",
        "\n",
        "Purpose: Flips an array horizontally (left-right), reversing the order of the columns along the second axis (axis 1).\n",
        "\n",
        "Effect: The first column becomes the last column, the second column becomes the second-to-last column, and so on. The rows remain unchanged.\n",
        "\n",
        "Applicability: Works primarily on 2D arrays or higher, as it requires at least two dimensions. For 1D arrays, it throws an error because there is no \"left\" or \"right\" axis."
      ],
      "metadata": {
        "id": "1ybQlT5PLl4X"
      }
    },
    {
      "cell_type": "markdown",
      "source": [
        "####Ques 9:- Discuss the funcitonality of the array_split() method in NumPy. How does it handle uneven splits?\n",
        "\n",
        "**Answer**  The numpy.array_split() function in NumPy is used to split an array into multiple sub-arrays along a specified axis. Unlike the numpy.split() function, which requires equal-sized splits, array_split() can handle uneven splits. This flexibility makes array_split() more versatile when the array cannot be divided evenly by the number of requested sub-arrays.\n",
        "\n",
        "**Handling Uneven Splits**\n",
        "\n",
        "If the size of the input array is not divisible by the number of splits, array_split() will divide the array as evenly as possible, distributing the extra elements across some of the sub-arrays. The resulting sub-arrays will have either the same size or differ by at most one element.\n",
        "\n",
        "**Uneven Split Behavior**\n",
        "\n",
        "If the array size is divisible by the number of sections: All sub-arrays will have the same number of elements.\n",
        "If the array size is not divisible by the number of sections: The first few sub-arrays will have one extra element. NumPy distributes the extra elements across the initial sub-arrays to ensure they are as evenly sized as possible."
      ],
      "metadata": {
        "id": "GKA73cYaMrkz"
      }
    },
    {
      "cell_type": "markdown",
      "source": [
        "####Ques 10:- Explain the concepts of vectorization broadcasting in Numpy. How do they contribute to efficient array operations?\n",
        "\n",
        "**Answer**  **Vectorization and Broadcasting in NumPy**\n",
        "Vectorization and broadcasting are two key concepts in NumPy that contribute to its efficiency for numerical operations, especially when working with large datasets. These features allow NumPy to perform operations quickly and efficiently by avoiding explicit loops, thus speeding up array computations.\n",
        "\n",
        "**Vectorization in NumPy**\n",
        "\n",
        "Definition: Vectorization refers to the process of applying operations directly on entire arrays or matrices without the need for explicit loops. It transforms operations that would normally be executed element-by-element (i.e., in a loop) into optimized, low-level operations on the entire array at once.\n",
        "\n",
        "\n",
        "**Key Points of Vectorization:**\n",
        "Loop Elimination: Vectorization eliminates the need for Python loops. For example, adding two arrays element-wise using a loop in Python is slower compared to performing the same operation in a vectorized manner using NumPy.\n",
        "Speed: Since vectorized operations are implemented in low-level C or Fortran, they are highly optimized, leading to significant performance gains.\n",
        "Simplicity: Vectorized code is often simpler and more concise, leading to more readable code.\n"
      ],
      "metadata": {
        "id": "6hvjY8cgNlJg"
      }
    },
    {
      "cell_type": "code",
      "source": [],
      "metadata": {
        "id": "09AQ_j1WJHjW"
      },
      "execution_count": null,
      "outputs": []
    }
  ]
}