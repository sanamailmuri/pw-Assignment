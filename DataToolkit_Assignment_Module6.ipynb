{
  "cells": [
    {
      "cell_type": "markdown",
      "metadata": {
        "id": "r_i_bsU5Wn-H"
      },
      "source": [
        "# People Dataset :-\n",
        "\n",
        "Here's a Drive Link of people dataset\n",
        "[httpsh//drivegooglecom/file/d/wx_f_HNKieNRAzx9IzAojaYp_Up_cef\\/view?uspbsharing](https://drive.google.com/file/d/13x8f8HNKieSRAzxTIzAojaYp8Up8cefk/view)"
      ]
    },
    {
      "cell_type": "markdown",
      "metadata": {
        "id": "9zX-yvX2Wn-I"
      },
      "source": [
        "## Question-1.Demonstrate three different methods for creating identical 2D arrays in NumPy, Provide the code for each method and the final output after each method."
      ]
    },
    {
      "cell_type": "markdown",
      "metadata": {
        "id": "HKpTU6YJWn-J"
      },
      "source": [
        "There are many methods thats create 2d array"
      ]
    },
    {
      "cell_type": "markdown",
      "metadata": {
        "id": "tKQPTTWQWn-J"
      },
      "source": [
        "### Method 1: Using the numpy.array() function"
      ]
    },
    {
      "cell_type": "code",
      "execution_count": null,
      "metadata": {
        "id": "trYBR6DXWn-J",
        "outputId": "ba6be263-3d3f-465c-d654-5eb028d71e98"
      },
      "outputs": [
        {
          "data": {
            "text/plain": [
              "array([[1, 2, 3],\n",
              "       [4, 5, 6],\n",
              "       [7, 8, 9]])"
            ]
          },
          "execution_count": 1,
          "metadata": {},
          "output_type": "execute_result"
        }
      ],
      "source": [
        "import numpy as np\n",
        "\n",
        "arr = np.array([[1, 2, 3], [4, 5, 6], [7, 8, 9]])\n",
        "\n",
        "arr\n"
      ]
    },
    {
      "cell_type": "markdown",
      "metadata": {
        "id": "KSlfyJfEWn-K"
      },
      "source": [
        "### Method 2: Using the numpy.zeros() function"
      ]
    },
    {
      "cell_type": "code",
      "execution_count": null,
      "metadata": {
        "id": "miFEcXfqWn-K",
        "outputId": "824d691a-f157-40da-b7d0-877f7d831274"
      },
      "outputs": [
        {
          "data": {
            "text/plain": [
              "array([[0., 0., 0.],\n",
              "       [0., 0., 0.],\n",
              "       [0., 0., 0.]])"
            ]
          },
          "execution_count": 2,
          "metadata": {},
          "output_type": "execute_result"
        }
      ],
      "source": [
        "\n",
        "arr_2 = np.zeros((3, 3))\n",
        "arr_2"
      ]
    },
    {
      "cell_type": "code",
      "execution_count": null,
      "metadata": {
        "id": "q8HzCaQvWn-L",
        "outputId": "90fe242c-a4fe-421f-d746-9e9135ec7af7"
      },
      "outputs": [
        {
          "data": {
            "text/plain": [
              "array([[1., 2., 3.],\n",
              "       [4., 5., 6.],\n",
              "       [7., 8., 9.]])"
            ]
          },
          "execution_count": 3,
          "metadata": {},
          "output_type": "execute_result"
        }
      ],
      "source": [
        "arr_2[0, :] = [1, 2, 3]\n",
        "arr_2[1, :] = [4, 5, 6]\n",
        "arr_2[2, :] = [7, 8, 9]\n",
        "arr_2"
      ]
    },
    {
      "cell_type": "markdown",
      "metadata": {
        "id": "zaSiZazRWn-L"
      },
      "source": [
        "### Method 3: Using the numpy.full() function"
      ]
    },
    {
      "cell_type": "code",
      "execution_count": null,
      "metadata": {
        "id": "XYoGbsJyWn-L",
        "outputId": "50444797-ca20-4149-e086-f56efd7d5002"
      },
      "outputs": [
        {
          "data": {
            "text/plain": [
              "array([[5, 5, 5],\n",
              "       [5, 5, 5],\n",
              "       [5, 5, 5]])"
            ]
          },
          "execution_count": 4,
          "metadata": {},
          "output_type": "execute_result"
        }
      ],
      "source": [
        "\n",
        "arr_3 = np.full((3, 3), 5)\n",
        "arr_3"
      ]
    },
    {
      "cell_type": "code",
      "execution_count": null,
      "metadata": {
        "id": "qCBtKt8RWn-M",
        "outputId": "e30c49d4-7baa-4e3f-ff5d-c35503043846"
      },
      "outputs": [
        {
          "data": {
            "text/plain": [
              "array([[1, 2, 3],\n",
              "       [4, 5, 6],\n",
              "       [7, 8, 9]])"
            ]
          },
          "execution_count": 5,
          "metadata": {},
          "output_type": "execute_result"
        }
      ],
      "source": [
        "arr_3[0, :] = [1, 2, 3]\n",
        "arr_3[1, :] = [4, 5, 6]\n",
        "arr_3[2, :] = [7, 8, 9]\n",
        "arr_3\n"
      ]
    },
    {
      "cell_type": "markdown",
      "metadata": {
        "id": "849mgebEWn-M"
      },
      "source": [
        "## Question-2. Using the Numpy function, generate an array of 100 evenly spaced numbers between 1 and 10 and Reshape that 1D array into a 2D array"
      ]
    },
    {
      "cell_type": "code",
      "execution_count": null,
      "metadata": {
        "id": "xHs9mtOUWn-M",
        "outputId": "dc3766d7-8d05-42a6-ccd5-05c89faf8a8f"
      },
      "outputs": [
        {
          "data": {
            "text/plain": [
              "1"
            ]
          },
          "execution_count": 6,
          "metadata": {},
          "output_type": "execute_result"
        }
      ],
      "source": [
        "\n",
        "arr1 = np.linspace(1, 10, 100)\n",
        "arr1.ndim"
      ]
    },
    {
      "cell_type": "code",
      "execution_count": null,
      "metadata": {
        "id": "SH3dCGnwWn-M",
        "outputId": "8f645a23-c5be-49fe-8a60-d40c5116117d"
      },
      "outputs": [
        {
          "data": {
            "text/plain": [
              "2"
            ]
          },
          "execution_count": 7,
          "metadata": {},
          "output_type": "execute_result"
        }
      ],
      "source": [
        "arr2 = arr1.reshape(10, 10)\n",
        "arr2.ndim\n"
      ]
    },
    {
      "cell_type": "markdown",
      "metadata": {
        "id": "4kdUbocMWn-M"
      },
      "source": [
        "## Question-3. Explain the following termsg\n",
        "### -> The difference in np.array, np.asarray and np.asanyarray.\n"
      ]
    },
    {
      "cell_type": "markdown",
      "metadata": {
        "id": "JjMxWW-wWn-M"
      },
      "source": [
        "The main difference between np.array, np.asarray, and np.asanyarray in NumPy lies in how they handle the input data and create the resulting array."
      ]
    },
    {
      "cell_type": "markdown",
      "metadata": {
        "id": "oTamdLKWWn-M"
      },
      "source": [
        "#### np.array ():-\n",
        "It creates a copy of the input data which means that any changes made to the original data will not be reflected in the resulting array."
      ]
    },
    {
      "cell_type": "code",
      "execution_count": null,
      "metadata": {
        "id": "dgtBPPlyWn-N"
      },
      "outputs": [],
      "source": [
        "#Example of np.array\n",
        "\n",
        "arr1 = np.arange(7)\n",
        "arr2 = np.array(arr1)"
      ]
    },
    {
      "cell_type": "code",
      "execution_count": null,
      "metadata": {
        "id": "2R0_K0F1Wn-N",
        "outputId": "174429e9-b007-4c63-abb7-ed7e3a256bf8"
      },
      "outputs": [
        {
          "data": {
            "text/plain": [
              "array([0, 1, 2, 3, 4, 5, 6])"
            ]
          },
          "execution_count": 9,
          "metadata": {},
          "output_type": "execute_result"
        }
      ],
      "source": [
        "arr1\n"
      ]
    },
    {
      "cell_type": "code",
      "execution_count": null,
      "metadata": {
        "id": "mbtO8CQFWn-N",
        "outputId": "299ea21d-2580-4549-cdac-51422022c2b7"
      },
      "outputs": [
        {
          "data": {
            "text/plain": [
              "array([0, 1, 2, 3, 4, 5, 6])"
            ]
          },
          "execution_count": 10,
          "metadata": {},
          "output_type": "execute_result"
        }
      ],
      "source": [
        "arr2"
      ]
    },
    {
      "cell_type": "code",
      "execution_count": null,
      "metadata": {
        "id": "EBSfUD0vWn-N",
        "outputId": "4ba2a78b-85b2-41b1-863e-cd7a6e2af818"
      },
      "outputs": [
        {
          "data": {
            "text/plain": [
              "False"
            ]
          },
          "execution_count": 11,
          "metadata": {},
          "output_type": "execute_result"
        }
      ],
      "source": [
        "arr1 is arr2"
      ]
    },
    {
      "cell_type": "markdown",
      "metadata": {
        "id": "D75-jc8CWn-N"
      },
      "source": [
        "#### np.asarray():-\n",
        "It creates a new array object from the input data but it does not necessarily create a copy of the data. If the input data is already an array np.asarray will return the original array without creating a copy."
      ]
    },
    {
      "cell_type": "code",
      "execution_count": null,
      "metadata": {
        "id": "m33XbLu5Wn-N"
      },
      "outputs": [],
      "source": [
        "arr1 = np.arange(7)\n",
        "arr3 = np.asarray(arr1)"
      ]
    },
    {
      "cell_type": "code",
      "execution_count": null,
      "metadata": {
        "id": "If7FFrXtWn-N",
        "outputId": "1c682fc2-268a-498d-f5f6-b35dabbcb315"
      },
      "outputs": [
        {
          "data": {
            "text/plain": [
              "array([0, 1, 2, 3, 4, 5, 6])"
            ]
          },
          "execution_count": 13,
          "metadata": {},
          "output_type": "execute_result"
        }
      ],
      "source": [
        "arr3"
      ]
    },
    {
      "cell_type": "code",
      "execution_count": null,
      "metadata": {
        "id": "LgqyfPqFWn-N",
        "outputId": "87631713-1dfa-47c2-eff9-0c6fb26f43d5"
      },
      "outputs": [
        {
          "data": {
            "text/plain": [
              "True"
            ]
          },
          "execution_count": 14,
          "metadata": {},
          "output_type": "execute_result"
        }
      ],
      "source": [
        "arr3 is arr1"
      ]
    },
    {
      "cell_type": "markdown",
      "metadata": {
        "id": "d2heOJKJWn-O"
      },
      "source": [
        "#### np.asanyarray():-\n",
        "It is similar to 'np.asarray'. If the input array is a subclass of 'ndarray' 'np.asanyarray' will return the original array without creating a copy."
      ]
    },
    {
      "cell_type": "code",
      "execution_count": null,
      "metadata": {
        "id": "Le0sZ5WHWn-O",
        "outputId": "c9fe3324-be5d-47d9-d0bf-09949570ea0f"
      },
      "outputs": [
        {
          "data": {
            "text/plain": [
              "array([0, 1, 2, 3, 4, 5, 6])"
            ]
          },
          "execution_count": 15,
          "metadata": {},
          "output_type": "execute_result"
        }
      ],
      "source": [
        "arr4 = np.asanyarray(arr1)\n",
        "arr4"
      ]
    },
    {
      "cell_type": "code",
      "execution_count": null,
      "metadata": {
        "id": "SAi5ugm1Wn-O",
        "outputId": "7d090d10-f8e0-4c1c-f548-3ea7127aef23"
      },
      "outputs": [
        {
          "data": {
            "text/plain": [
              "True"
            ]
          },
          "execution_count": 16,
          "metadata": {},
          "output_type": "execute_result"
        }
      ],
      "source": [
        "arr4 is arr1"
      ]
    },
    {
      "cell_type": "markdown",
      "metadata": {
        "vscode": {
          "languageId": "bat"
        },
        "id": "kcCTK48XWn-O"
      },
      "source": [
        "### -> The difference between Deep copy and shallow copy"
      ]
    },
    {
      "cell_type": "markdown",
      "metadata": {
        "id": "woL0bi5_Wn-O"
      },
      "source": [
        " when you create a copy of an object we can either create a shallow copy or a deep copy. The main difference between the two lies in how they handle nested objects."
      ]
    },
    {
      "cell_type": "markdown",
      "metadata": {
        "id": "L_lK3hOuWn-O"
      },
      "source": [
        "#### Shallow Copy:-\n",
        "A shallow copy of an object creates a new object and inserts references as original elements. This means that if the original object contains mutable elements the copied object will reference the same elements. Any changes made to the original elements will be reflected in the copied object."
      ]
    },
    {
      "cell_type": "code",
      "execution_count": null,
      "metadata": {
        "id": "nWeiDQKnWn-O"
      },
      "outputs": [],
      "source": [
        "# Example of Shallow Copy\n",
        "list_1 = [[1, 2, 5, 6], [3, 4, 7, 8]]\n",
        "list_2 = list_1\n"
      ]
    },
    {
      "cell_type": "code",
      "execution_count": null,
      "metadata": {
        "id": "AjNr9m8oWn-O",
        "outputId": "83d64a16-0eb1-400a-b7e8-4497eb7e58b2"
      },
      "outputs": [
        {
          "data": {
            "text/plain": [
              "[[1, 2, 5, 6], [3, 4, 7, 8]]"
            ]
          },
          "execution_count": 18,
          "metadata": {},
          "output_type": "execute_result"
        }
      ],
      "source": [
        "list_1"
      ]
    },
    {
      "cell_type": "code",
      "execution_count": null,
      "metadata": {
        "id": "HyM5SAcPWn-O",
        "outputId": "5577498f-e2ca-4ef5-b645-1403cccf63da"
      },
      "outputs": [
        {
          "data": {
            "text/plain": [
              "[[1, 2, 5, 6], [3, 4, 7, 8]]"
            ]
          },
          "execution_count": 19,
          "metadata": {},
          "output_type": "execute_result"
        }
      ],
      "source": [
        "list_2"
      ]
    },
    {
      "cell_type": "code",
      "execution_count": null,
      "metadata": {
        "id": "rAzHpnfYWn-O"
      },
      "outputs": [],
      "source": [
        "list_1[1][2] = 100"
      ]
    },
    {
      "cell_type": "code",
      "execution_count": null,
      "metadata": {
        "id": "vB7AZhqOWn-P",
        "outputId": "ba1f5e76-22f5-42a1-b6dd-ec3dedbc4cdf"
      },
      "outputs": [
        {
          "data": {
            "text/plain": [
              "[[1, 2, 5, 6], [3, 4, 100, 8]]"
            ]
          },
          "execution_count": 21,
          "metadata": {},
          "output_type": "execute_result"
        }
      ],
      "source": [
        "list_2"
      ]
    },
    {
      "cell_type": "markdown",
      "metadata": {
        "id": "ujKhiJ28Wn-P"
      },
      "source": [
        "#### Deep Copy:-\n",
        "A deep copy of an object creates a new object and add copies of the child objects found in the original object. This means that if the original object contains mutable elements the copied object will have its own independent copies of those elements. Any changes made to the original elements will not be reflected in the copied object."
      ]
    },
    {
      "cell_type": "code",
      "execution_count": null,
      "metadata": {
        "id": "cP9OdPbTWn-P"
      },
      "outputs": [],
      "source": [
        "import copy\n",
        "\n",
        "list_3 = [[10, 20, 50, 60], [30, 40, 70, 80]]\n",
        "list_4 = copy.deepcopy(list_3)\n"
      ]
    },
    {
      "cell_type": "code",
      "execution_count": null,
      "metadata": {
        "id": "qyQZ5amhWn-P",
        "outputId": "25f403bd-625c-4778-e526-a99a26ec354a"
      },
      "outputs": [
        {
          "data": {
            "text/plain": [
              "[[10, 20, 50, 60], [30, 40, 70, 80]]"
            ]
          },
          "execution_count": 23,
          "metadata": {},
          "output_type": "execute_result"
        }
      ],
      "source": [
        "list_3"
      ]
    },
    {
      "cell_type": "code",
      "execution_count": null,
      "metadata": {
        "id": "ouOOaGs-Wn-T",
        "outputId": "4df44762-3104-4094-b2e0-c0b9603822cb"
      },
      "outputs": [
        {
          "data": {
            "text/plain": [
              "[[10, 20, 50, 60], [30, 40, 70, 80]]"
            ]
          },
          "execution_count": 24,
          "metadata": {},
          "output_type": "execute_result"
        }
      ],
      "source": [
        "list_4"
      ]
    },
    {
      "cell_type": "code",
      "execution_count": null,
      "metadata": {
        "id": "73LL4H8FWn-T"
      },
      "outputs": [],
      "source": [
        "list_3[0][1] = 1000"
      ]
    },
    {
      "cell_type": "code",
      "execution_count": null,
      "metadata": {
        "id": "sLzjyjT5Wn-U",
        "outputId": "e02805f5-8d4d-438c-efaa-d5eabf1b4406"
      },
      "outputs": [
        {
          "data": {
            "text/plain": [
              "[[10, 20, 50, 60], [30, 40, 70, 80]]"
            ]
          },
          "execution_count": 26,
          "metadata": {},
          "output_type": "execute_result"
        }
      ],
      "source": [
        "list_4"
      ]
    },
    {
      "cell_type": "markdown",
      "metadata": {
        "id": "EW-TMQnxWn-U"
      },
      "source": [
        "## Question- 4.Generate a 3 x 3 array with random floating-point numbers between 5 and 20 then, round each number in the array to 2 decimal places."
      ]
    },
    {
      "cell_type": "code",
      "execution_count": null,
      "metadata": {
        "id": "nIAvhy2xWn-U"
      },
      "outputs": [],
      "source": [
        "arr = np.random.uniform(5, 20, (3, 3))"
      ]
    },
    {
      "cell_type": "code",
      "execution_count": null,
      "metadata": {
        "id": "2v5Y5L_GWn-U",
        "outputId": "5a7b0cfe-e786-41d1-ba21-b3f1799fab8e"
      },
      "outputs": [
        {
          "data": {
            "text/plain": [
              "array([[17.36395654,  5.25455877,  9.3518744 ],\n",
              "       [16.15328705, 14.25284036, 15.49399387],\n",
              "       [13.91044558, 17.07955267, 18.77146783]])"
            ]
          },
          "execution_count": 28,
          "metadata": {},
          "output_type": "execute_result"
        }
      ],
      "source": [
        "arr"
      ]
    },
    {
      "cell_type": "code",
      "execution_count": null,
      "metadata": {
        "id": "bEWQsaipWn-U"
      },
      "outputs": [],
      "source": [
        "new_arr = np.round(arr,2)"
      ]
    },
    {
      "cell_type": "code",
      "execution_count": null,
      "metadata": {
        "id": "aLRdrVuTWn-U",
        "outputId": "8a3ee878-0c9c-41c0-fbdf-d96e29245e8a"
      },
      "outputs": [
        {
          "data": {
            "text/plain": [
              "array([[17.36,  5.25,  9.35],\n",
              "       [16.15, 14.25, 15.49],\n",
              "       [13.91, 17.08, 18.77]])"
            ]
          },
          "execution_count": 30,
          "metadata": {},
          "output_type": "execute_result"
        }
      ],
      "source": [
        "new_arr"
      ]
    },
    {
      "cell_type": "markdown",
      "metadata": {
        "id": "Vozs8956Wn-U"
      },
      "source": [
        "## Question:-5. Create a NumPy array with random integers between 1 and 10 of shape (5, 6) After creating the array\n",
        "### Perform\n",
        "#### a)Extract all even integers from array"
      ]
    },
    {
      "cell_type": "code",
      "execution_count": null,
      "metadata": {
        "id": "plrzZWD8Wn-U"
      },
      "outputs": [],
      "source": [
        "arr = np.random.randint(1,10,(5,6))"
      ]
    },
    {
      "cell_type": "code",
      "execution_count": null,
      "metadata": {
        "id": "ysK3s1isWn-U",
        "outputId": "a856dc70-e514-4f3f-9ebf-742b515e3984"
      },
      "outputs": [
        {
          "data": {
            "text/plain": [
              "array([[9, 8, 5, 7, 6, 9],\n",
              "       [5, 4, 7, 8, 8, 4],\n",
              "       [4, 4, 1, 1, 7, 9],\n",
              "       [6, 6, 7, 4, 8, 9],\n",
              "       [1, 2, 3, 1, 2, 2]])"
            ]
          },
          "execution_count": 32,
          "metadata": {},
          "output_type": "execute_result"
        }
      ],
      "source": [
        "arr"
      ]
    },
    {
      "cell_type": "code",
      "execution_count": null,
      "metadata": {
        "id": "BvezDSveWn-U"
      },
      "outputs": [],
      "source": [
        "Even_arr = arr[arr % 2 == 0]"
      ]
    },
    {
      "cell_type": "code",
      "execution_count": null,
      "metadata": {
        "id": "xu1HPxX1Wn-V",
        "outputId": "b54084ed-caf7-4044-db97-2551d687d2a3"
      },
      "outputs": [
        {
          "data": {
            "text/plain": [
              "array([8, 6, 4, 8, 8, 4, 4, 4, 6, 6, 4, 8, 2, 2, 2])"
            ]
          },
          "execution_count": 34,
          "metadata": {},
          "output_type": "execute_result"
        }
      ],
      "source": [
        "Even_arr"
      ]
    },
    {
      "cell_type": "markdown",
      "metadata": {
        "id": "Wm2-vRzuWn-V"
      },
      "source": [
        "#### b)Extract all odd integers from array."
      ]
    },
    {
      "cell_type": "code",
      "execution_count": null,
      "metadata": {
        "id": "p98uGczkWn-V",
        "outputId": "9de61531-e64c-4ddf-bac3-49a02defb046"
      },
      "outputs": [
        {
          "data": {
            "text/plain": [
              "array([9, 5, 7, 9, 5, 7, 1, 1, 7, 9, 7, 9, 1, 3, 1])"
            ]
          },
          "execution_count": 35,
          "metadata": {},
          "output_type": "execute_result"
        }
      ],
      "source": [
        "Odd_arr = arr[arr % 2 != 0]\n",
        "Odd_arr"
      ]
    },
    {
      "cell_type": "markdown",
      "metadata": {
        "id": "0OugKGLSWn-V"
      },
      "source": [
        "## Question-6. Create a 3D NumPy array of shape (3, 3, 3) containing random integers between 1 and 10 Perform the following operations:\n",
        "\n",
        " #### a) Find the indices of the maximum values along each depth level (third axis)."
      ]
    },
    {
      "cell_type": "code",
      "execution_count": null,
      "metadata": {
        "id": "P3dOwvowWn-V"
      },
      "outputs": [],
      "source": [
        "arr1 = np.random.randint(1, 10,(3,3,3))"
      ]
    },
    {
      "cell_type": "code",
      "execution_count": null,
      "metadata": {
        "id": "33LWNVR_Wn-V",
        "outputId": "0968252c-d4df-47a9-da18-193a7b4c64ca"
      },
      "outputs": [
        {
          "data": {
            "text/plain": [
              "array([[[4, 4, 8],\n",
              "        [8, 3, 8],\n",
              "        [9, 2, 2]],\n",
              "\n",
              "       [[9, 4, 1],\n",
              "        [9, 5, 4],\n",
              "        [1, 7, 9]],\n",
              "\n",
              "       [[7, 2, 6],\n",
              "        [1, 2, 3],\n",
              "        [8, 6, 2]]])"
            ]
          },
          "execution_count": 37,
          "metadata": {},
          "output_type": "execute_result"
        }
      ],
      "source": [
        "arr1"
      ]
    },
    {
      "cell_type": "code",
      "execution_count": null,
      "metadata": {
        "id": "3hrxdDCTWn-W",
        "outputId": "2895521e-e067-4f1b-b9c5-b73ee5176acc"
      },
      "outputs": [
        {
          "data": {
            "text/plain": [
              "(array([1], dtype=int64), array([1], dtype=int64), array([0], dtype=int64))"
            ]
          },
          "execution_count": 38,
          "metadata": {},
          "output_type": "execute_result"
        }
      ],
      "source": [
        "indices = np.where(arr1 == np.max(arr1, axis=2))\n",
        "indices"
      ]
    },
    {
      "cell_type": "markdown",
      "metadata": {
        "id": "RZ_m2N0YWn-W"
      },
      "source": [
        " #### b) Perform element wise multiplication of between both array."
      ]
    },
    {
      "cell_type": "code",
      "execution_count": null,
      "metadata": {
        "id": "XniiF08ZWn-W"
      },
      "outputs": [],
      "source": [
        "arr2 = np.random.randint(1,10,(3,3,3))"
      ]
    },
    {
      "cell_type": "code",
      "execution_count": null,
      "metadata": {
        "id": "KCwCyXPjWn-W",
        "outputId": "42c80689-da0d-4e5f-debf-31b64bedea66"
      },
      "outputs": [
        {
          "data": {
            "text/plain": [
              "array([[[7, 4, 2],\n",
              "        [9, 4, 5],\n",
              "        [3, 2, 9]],\n",
              "\n",
              "       [[2, 9, 4],\n",
              "        [2, 2, 8],\n",
              "        [6, 9, 7]],\n",
              "\n",
              "       [[1, 4, 9],\n",
              "        [2, 6, 2],\n",
              "        [5, 1, 2]]])"
            ]
          },
          "execution_count": 40,
          "metadata": {},
          "output_type": "execute_result"
        }
      ],
      "source": [
        "arr2"
      ]
    },
    {
      "cell_type": "code",
      "execution_count": null,
      "metadata": {
        "id": "sqOrsqdDWn-W",
        "outputId": "54c46703-44c3-4f7f-f292-c1d4193e7172"
      },
      "outputs": [
        {
          "data": {
            "text/plain": [
              "array([[[4, 4, 8],\n",
              "        [8, 3, 8],\n",
              "        [9, 2, 2]],\n",
              "\n",
              "       [[9, 4, 1],\n",
              "        [9, 5, 4],\n",
              "        [1, 7, 9]],\n",
              "\n",
              "       [[7, 2, 6],\n",
              "        [1, 2, 3],\n",
              "        [8, 6, 2]]])"
            ]
          },
          "execution_count": 41,
          "metadata": {},
          "output_type": "execute_result"
        }
      ],
      "source": [
        "arr1"
      ]
    },
    {
      "cell_type": "code",
      "execution_count": null,
      "metadata": {
        "id": "EkutwEe5Wn-W",
        "outputId": "11bddf02-918a-48a5-f1c1-b2dd00cb804e"
      },
      "outputs": [
        {
          "data": {
            "text/plain": [
              "array([[[28, 16, 16],\n",
              "        [72, 12, 40],\n",
              "        [27,  4, 18]],\n",
              "\n",
              "       [[18, 36,  4],\n",
              "        [18, 10, 32],\n",
              "        [ 6, 63, 63]],\n",
              "\n",
              "       [[ 7,  8, 54],\n",
              "        [ 2, 12,  6],\n",
              "        [40,  6,  4]]])"
            ]
          },
          "execution_count": 42,
          "metadata": {},
          "output_type": "execute_result"
        }
      ],
      "source": [
        "arr1 * arr2"
      ]
    },
    {
      "cell_type": "markdown",
      "metadata": {
        "id": "qu-EjBWvWn-W"
      },
      "source": [
        "## Question-7.Clean and transform the 'Phone' column in the sample dataset to remove non-numeric characters and convert it to a numeric data type. Also display the table attributes and data types of each column."
      ]
    },
    {
      "cell_type": "code",
      "execution_count": null,
      "metadata": {
        "id": "R5ATI8vzWn-W"
      },
      "outputs": [],
      "source": [
        "import pandas as pd"
      ]
    },
    {
      "cell_type": "code",
      "execution_count": null,
      "metadata": {
        "id": "baVlka3cWn-W"
      },
      "outputs": [],
      "source": [
        "data = pd.read_csv(\"People Data.csv\")"
      ]
    },
    {
      "cell_type": "code",
      "execution_count": null,
      "metadata": {
        "id": "0lDJ78BeWn-X",
        "outputId": "297d4998-bf59-4327-8d19-7cc959d7baae"
      },
      "outputs": [
        {
          "data": {
            "text/plain": [
              "Index             int64\n",
              "User Id          object\n",
              "First Name       object\n",
              "Last Name        object\n",
              "Gender           object\n",
              "Email            object\n",
              "Phone            object\n",
              "Date of birth    object\n",
              "Job Title        object\n",
              "Salary            int64\n",
              "dtype: object"
            ]
          },
          "execution_count": 47,
          "metadata": {},
          "output_type": "execute_result"
        }
      ],
      "source": [
        "data.dtypes"
      ]
    },
    {
      "cell_type": "code",
      "execution_count": null,
      "metadata": {
        "id": "VnOWIs7BWn-X"
      },
      "outputs": [],
      "source": [
        "# Remove Non-Numeric Value\n",
        "data['Phone'] = data['Phone'].str.replace(r'\\D+', \" \", \".\")"
      ]
    },
    {
      "cell_type": "code",
      "execution_count": null,
      "metadata": {
        "id": "k6OpStMXWn-X"
      },
      "outputs": [],
      "source": [
        "data['Phone'] = pd.to_numeric(data['Phone'])"
      ]
    },
    {
      "cell_type": "code",
      "execution_count": null,
      "metadata": {
        "id": "KDsGuyxhWn-X",
        "outputId": "feb3e40d-0a5a-4f70-bae3-c46111758a61"
      },
      "outputs": [
        {
          "data": {
            "text/plain": [
              "Index              int64\n",
              "User Id           object\n",
              "First Name        object\n",
              "Last Name         object\n",
              "Gender            object\n",
              "Email             object\n",
              "Phone            float64\n",
              "Date of birth     object\n",
              "Job Title         object\n",
              "Salary             int64\n",
              "dtype: object"
            ]
          },
          "execution_count": 50,
          "metadata": {},
          "output_type": "execute_result"
        }
      ],
      "source": [
        "data.dtypes"
      ]
    },
    {
      "cell_type": "markdown",
      "metadata": {
        "id": "YtOhtg86Wn-X"
      },
      "source": [
        "## Question-8\n",
        "### a. Read the 'data.csv' file using pandas, skipping the first 50 rows"
      ]
    },
    {
      "cell_type": "code",
      "execution_count": null,
      "metadata": {
        "id": "kwbk4vxnWn-X"
      },
      "outputs": [],
      "source": [
        "data1 = pd.read_csv(\"People Data.csv\", skiprows = 50)"
      ]
    },
    {
      "cell_type": "code",
      "execution_count": null,
      "metadata": {
        "id": "MX8gzVQbWn-X",
        "outputId": "b461da07-678a-42a6-c9e8-66ea1b759f08"
      },
      "outputs": [
        {
          "data": {
            "text/html": [
              "<div>\n",
              "<style scoped>\n",
              "    .dataframe tbody tr th:only-of-type {\n",
              "        vertical-align: middle;\n",
              "    }\n",
              "\n",
              "    .dataframe tbody tr th {\n",
              "        vertical-align: top;\n",
              "    }\n",
              "\n",
              "    .dataframe thead th {\n",
              "        text-align: right;\n",
              "    }\n",
              "</style>\n",
              "<table border=\"1\" class=\"dataframe\">\n",
              "  <thead>\n",
              "    <tr style=\"text-align: right;\">\n",
              "      <th></th>\n",
              "      <th>50</th>\n",
              "      <th>afF3018e9cdd1dA</th>\n",
              "      <th>George</th>\n",
              "      <th>Mercer</th>\n",
              "      <th>Female</th>\n",
              "      <th>douglascontreras@example.net</th>\n",
              "      <th>+1-326-669-0118x4341</th>\n",
              "      <th>11-09-1941</th>\n",
              "      <th>Human resources officer</th>\n",
              "      <th>70000</th>\n",
              "    </tr>\n",
              "  </thead>\n",
              "  <tbody>\n",
              "    <tr>\n",
              "      <th>0</th>\n",
              "      <td>51</td>\n",
              "      <td>CccE5DAb6E288e5</td>\n",
              "      <td>Jo</td>\n",
              "      <td>Zavala</td>\n",
              "      <td>Male</td>\n",
              "      <td>pamela64@example.net</td>\n",
              "      <td>001-859-448-9935x54536</td>\n",
              "      <td>23-11-1992</td>\n",
              "      <td>Nurse, adult</td>\n",
              "      <td>80000</td>\n",
              "    </tr>\n",
              "    <tr>\n",
              "      <th>1</th>\n",
              "      <td>52</td>\n",
              "      <td>DfBDc3621D4bcec</td>\n",
              "      <td>Joshua</td>\n",
              "      <td>Carey</td>\n",
              "      <td>Female</td>\n",
              "      <td>dianashepherd@example.net</td>\n",
              "      <td>001-274-739-8470x814</td>\n",
              "      <td>07-01-1915</td>\n",
              "      <td>Seismic interpreter</td>\n",
              "      <td>70000</td>\n",
              "    </tr>\n",
              "    <tr>\n",
              "      <th>2</th>\n",
              "      <td>53</td>\n",
              "      <td>f55b0A249f5E44D</td>\n",
              "      <td>Rickey</td>\n",
              "      <td>Hobbs</td>\n",
              "      <td>Female</td>\n",
              "      <td>ingramtiffany@example.org</td>\n",
              "      <td>241.179.9509x498</td>\n",
              "      <td>01-07-1910</td>\n",
              "      <td>Barrister</td>\n",
              "      <td>60000</td>\n",
              "    </tr>\n",
              "    <tr>\n",
              "      <th>3</th>\n",
              "      <td>54</td>\n",
              "      <td>Ed71DcfaBFd0beE</td>\n",
              "      <td>Robyn</td>\n",
              "      <td>Reilly</td>\n",
              "      <td>Male</td>\n",
              "      <td>carriecrawford@example.org</td>\n",
              "      <td>207.797.8345x6177</td>\n",
              "      <td>27-07-1982</td>\n",
              "      <td>Engineer, structural</td>\n",
              "      <td>100000</td>\n",
              "    </tr>\n",
              "    <tr>\n",
              "      <th>4</th>\n",
              "      <td>55</td>\n",
              "      <td>FDaFD0c3f5387EC</td>\n",
              "      <td>Christina</td>\n",
              "      <td>Conrad</td>\n",
              "      <td>Male</td>\n",
              "      <td>fuentesclaudia@example.net</td>\n",
              "      <td>001-599-042-7428x143</td>\n",
              "      <td>06-01-1998</td>\n",
              "      <td>Producer, radio</td>\n",
              "      <td>50000</td>\n",
              "    </tr>\n",
              "    <tr>\n",
              "      <th>...</th>\n",
              "      <td>...</td>\n",
              "      <td>...</td>\n",
              "      <td>...</td>\n",
              "      <td>...</td>\n",
              "      <td>...</td>\n",
              "      <td>...</td>\n",
              "      <td>...</td>\n",
              "      <td>...</td>\n",
              "      <td>...</td>\n",
              "      <td>...</td>\n",
              "    </tr>\n",
              "    <tr>\n",
              "      <th>945</th>\n",
              "      <td>996</td>\n",
              "      <td>fedF4c7Fd9e7cFa</td>\n",
              "      <td>Kurt</td>\n",
              "      <td>Bryant</td>\n",
              "      <td>Female</td>\n",
              "      <td>lyonsdaisy@example.net</td>\n",
              "      <td>021.775.2933</td>\n",
              "      <td>05-01-1959</td>\n",
              "      <td>Personnel officer</td>\n",
              "      <td>90000</td>\n",
              "    </tr>\n",
              "    <tr>\n",
              "      <th>946</th>\n",
              "      <td>997</td>\n",
              "      <td>ECddaFEDdEc4FAB</td>\n",
              "      <td>Donna</td>\n",
              "      <td>Barry</td>\n",
              "      <td>Female</td>\n",
              "      <td>dariusbryan@example.com</td>\n",
              "      <td>001-149-710-7799x721</td>\n",
              "      <td>06-10-2001</td>\n",
              "      <td>Education administrator</td>\n",
              "      <td>50000</td>\n",
              "    </tr>\n",
              "    <tr>\n",
              "      <th>947</th>\n",
              "      <td>998</td>\n",
              "      <td>2adde51d8B8979E</td>\n",
              "      <td>Cathy</td>\n",
              "      <td>Mckinney</td>\n",
              "      <td>Female</td>\n",
              "      <td>georgechan@example.org</td>\n",
              "      <td>+1-750-774-4128x33265</td>\n",
              "      <td>13-05-1918</td>\n",
              "      <td>Commercial/residential surveyor</td>\n",
              "      <td>60000</td>\n",
              "    </tr>\n",
              "    <tr>\n",
              "      <th>948</th>\n",
              "      <td>999</td>\n",
              "      <td>Fb2FE369D1E171A</td>\n",
              "      <td>Jermaine</td>\n",
              "      <td>Phelps</td>\n",
              "      <td>Male</td>\n",
              "      <td>wanda04@example.net</td>\n",
              "      <td>(915)292-2254</td>\n",
              "      <td>31-08-1971</td>\n",
              "      <td>Ambulance person</td>\n",
              "      <td>100000</td>\n",
              "    </tr>\n",
              "    <tr>\n",
              "      <th>949</th>\n",
              "      <td>1000</td>\n",
              "      <td>8b756f6231DDC6e</td>\n",
              "      <td>Lee</td>\n",
              "      <td>Tran</td>\n",
              "      <td>Female</td>\n",
              "      <td>deannablack@example.org</td>\n",
              "      <td>079.752.5424x67259</td>\n",
              "      <td>24-01-1947</td>\n",
              "      <td>Nurse, learning disability</td>\n",
              "      <td>90000</td>\n",
              "    </tr>\n",
              "  </tbody>\n",
              "</table>\n",
              "<p>950 rows × 10 columns</p>\n",
              "</div>"
            ],
            "text/plain": [
              "       50  afF3018e9cdd1dA     George    Mercer  Female  \\\n",
              "0      51  CccE5DAb6E288e5         Jo    Zavala    Male   \n",
              "1      52  DfBDc3621D4bcec     Joshua     Carey  Female   \n",
              "2      53  f55b0A249f5E44D     Rickey     Hobbs  Female   \n",
              "3      54  Ed71DcfaBFd0beE      Robyn    Reilly    Male   \n",
              "4      55  FDaFD0c3f5387EC  Christina    Conrad    Male   \n",
              "..    ...              ...        ...       ...     ...   \n",
              "945   996  fedF4c7Fd9e7cFa       Kurt    Bryant  Female   \n",
              "946   997  ECddaFEDdEc4FAB      Donna     Barry  Female   \n",
              "947   998  2adde51d8B8979E      Cathy  Mckinney  Female   \n",
              "948   999  Fb2FE369D1E171A   Jermaine    Phelps    Male   \n",
              "949  1000  8b756f6231DDC6e        Lee      Tran  Female   \n",
              "\n",
              "    douglascontreras@example.net    +1-326-669-0118x4341  11-09-1941  \\\n",
              "0           pamela64@example.net  001-859-448-9935x54536  23-11-1992   \n",
              "1      dianashepherd@example.net    001-274-739-8470x814  07-01-1915   \n",
              "2      ingramtiffany@example.org        241.179.9509x498  01-07-1910   \n",
              "3     carriecrawford@example.org       207.797.8345x6177  27-07-1982   \n",
              "4     fuentesclaudia@example.net    001-599-042-7428x143  06-01-1998   \n",
              "..                           ...                     ...         ...   \n",
              "945       lyonsdaisy@example.net            021.775.2933  05-01-1959   \n",
              "946      dariusbryan@example.com    001-149-710-7799x721  06-10-2001   \n",
              "947       georgechan@example.org   +1-750-774-4128x33265  13-05-1918   \n",
              "948          wanda04@example.net           (915)292-2254  31-08-1971   \n",
              "949      deannablack@example.org      079.752.5424x67259  24-01-1947   \n",
              "\n",
              "             Human resources officer   70000  \n",
              "0                       Nurse, adult   80000  \n",
              "1                Seismic interpreter   70000  \n",
              "2                          Barrister   60000  \n",
              "3               Engineer, structural  100000  \n",
              "4                    Producer, radio   50000  \n",
              "..                               ...     ...  \n",
              "945                Personnel officer   90000  \n",
              "946          Education administrator   50000  \n",
              "947  Commercial/residential surveyor   60000  \n",
              "948                 Ambulance person  100000  \n",
              "949       Nurse, learning disability   90000  \n",
              "\n",
              "[950 rows x 10 columns]"
            ]
          },
          "execution_count": 56,
          "metadata": {},
          "output_type": "execute_result"
        }
      ],
      "source": [
        "data1"
      ]
    },
    {
      "cell_type": "markdown",
      "metadata": {
        "id": "j_Ny0PfoWn-X"
      },
      "source": [
        "### b. Only read the columns: 'Last Name', ‘Gender’,’Email’,‘Phone’ and ‘Salary’ from the file."
      ]
    },
    {
      "cell_type": "code",
      "execution_count": null,
      "metadata": {
        "id": "uOn9WOCKWn-X"
      },
      "outputs": [],
      "source": [
        "data2 = pd.read_csv(\"People Data.csv\", usecols=['Last Name','Gender','Email','Phone','Salary'])\n"
      ]
    },
    {
      "cell_type": "code",
      "execution_count": null,
      "metadata": {
        "id": "XNl1XyaWWn-Y",
        "outputId": "bec7ec4c-a260-44d5-c30a-9172d1f38e36"
      },
      "outputs": [
        {
          "data": {
            "text/html": [
              "<div>\n",
              "<style scoped>\n",
              "    .dataframe tbody tr th:only-of-type {\n",
              "        vertical-align: middle;\n",
              "    }\n",
              "\n",
              "    .dataframe tbody tr th {\n",
              "        vertical-align: top;\n",
              "    }\n",
              "\n",
              "    .dataframe thead th {\n",
              "        text-align: right;\n",
              "    }\n",
              "</style>\n",
              "<table border=\"1\" class=\"dataframe\">\n",
              "  <thead>\n",
              "    <tr style=\"text-align: right;\">\n",
              "      <th></th>\n",
              "      <th>Last Name</th>\n",
              "      <th>Gender</th>\n",
              "      <th>Email</th>\n",
              "      <th>Phone</th>\n",
              "      <th>Salary</th>\n",
              "    </tr>\n",
              "  </thead>\n",
              "  <tbody>\n",
              "    <tr>\n",
              "      <th>0</th>\n",
              "      <td>Mahoney</td>\n",
              "      <td>Male</td>\n",
              "      <td>pwarner@example.org</td>\n",
              "      <td>857.139.8239</td>\n",
              "      <td>90000</td>\n",
              "    </tr>\n",
              "    <tr>\n",
              "      <th>1</th>\n",
              "      <td>Rivers</td>\n",
              "      <td>Female</td>\n",
              "      <td>fergusonkatherine@example.net</td>\n",
              "      <td>NaN</td>\n",
              "      <td>80000</td>\n",
              "    </tr>\n",
              "    <tr>\n",
              "      <th>2</th>\n",
              "      <td>Lowery</td>\n",
              "      <td>Female</td>\n",
              "      <td>fhoward@example.org</td>\n",
              "      <td>(599)782-0605</td>\n",
              "      <td>50000</td>\n",
              "    </tr>\n",
              "    <tr>\n",
              "      <th>3</th>\n",
              "      <td>Hooper</td>\n",
              "      <td>Male</td>\n",
              "      <td>zjohnston@example.com</td>\n",
              "      <td>NaN</td>\n",
              "      <td>65000</td>\n",
              "    </tr>\n",
              "    <tr>\n",
              "      <th>4</th>\n",
              "      <td>Rice</td>\n",
              "      <td>Female</td>\n",
              "      <td>elin@example.net</td>\n",
              "      <td>(390)417-1635x3010</td>\n",
              "      <td>100000</td>\n",
              "    </tr>\n",
              "    <tr>\n",
              "      <th>...</th>\n",
              "      <td>...</td>\n",
              "      <td>...</td>\n",
              "      <td>...</td>\n",
              "      <td>...</td>\n",
              "      <td>...</td>\n",
              "    </tr>\n",
              "    <tr>\n",
              "      <th>995</th>\n",
              "      <td>Bryant</td>\n",
              "      <td>Female</td>\n",
              "      <td>lyonsdaisy@example.net</td>\n",
              "      <td>021.775.2933</td>\n",
              "      <td>90000</td>\n",
              "    </tr>\n",
              "    <tr>\n",
              "      <th>996</th>\n",
              "      <td>Barry</td>\n",
              "      <td>Female</td>\n",
              "      <td>dariusbryan@example.com</td>\n",
              "      <td>001-149-710-7799x721</td>\n",
              "      <td>50000</td>\n",
              "    </tr>\n",
              "    <tr>\n",
              "      <th>997</th>\n",
              "      <td>Mckinney</td>\n",
              "      <td>Female</td>\n",
              "      <td>georgechan@example.org</td>\n",
              "      <td>+1-750-774-4128x33265</td>\n",
              "      <td>60000</td>\n",
              "    </tr>\n",
              "    <tr>\n",
              "      <th>998</th>\n",
              "      <td>Phelps</td>\n",
              "      <td>Male</td>\n",
              "      <td>wanda04@example.net</td>\n",
              "      <td>(915)292-2254</td>\n",
              "      <td>100000</td>\n",
              "    </tr>\n",
              "    <tr>\n",
              "      <th>999</th>\n",
              "      <td>Tran</td>\n",
              "      <td>Female</td>\n",
              "      <td>deannablack@example.org</td>\n",
              "      <td>079.752.5424x67259</td>\n",
              "      <td>90000</td>\n",
              "    </tr>\n",
              "  </tbody>\n",
              "</table>\n",
              "<p>1000 rows × 5 columns</p>\n",
              "</div>"
            ],
            "text/plain": [
              "    Last Name  Gender                          Email                  Phone  \\\n",
              "0     Mahoney    Male            pwarner@example.org           857.139.8239   \n",
              "1      Rivers  Female  fergusonkatherine@example.net                    NaN   \n",
              "2      Lowery  Female            fhoward@example.org          (599)782-0605   \n",
              "3      Hooper    Male          zjohnston@example.com                    NaN   \n",
              "4        Rice  Female               elin@example.net     (390)417-1635x3010   \n",
              "..        ...     ...                            ...                    ...   \n",
              "995    Bryant  Female         lyonsdaisy@example.net           021.775.2933   \n",
              "996     Barry  Female        dariusbryan@example.com   001-149-710-7799x721   \n",
              "997  Mckinney  Female         georgechan@example.org  +1-750-774-4128x33265   \n",
              "998    Phelps    Male            wanda04@example.net          (915)292-2254   \n",
              "999      Tran  Female        deannablack@example.org     079.752.5424x67259   \n",
              "\n",
              "     Salary  \n",
              "0     90000  \n",
              "1     80000  \n",
              "2     50000  \n",
              "3     65000  \n",
              "4    100000  \n",
              "..      ...  \n",
              "995   90000  \n",
              "996   50000  \n",
              "997   60000  \n",
              "998  100000  \n",
              "999   90000  \n",
              "\n",
              "[1000 rows x 5 columns]"
            ]
          },
          "execution_count": 58,
          "metadata": {},
          "output_type": "execute_result"
        }
      ],
      "source": [
        "data2"
      ]
    },
    {
      "cell_type": "markdown",
      "metadata": {
        "id": "p5uxfYJhWn-Y"
      },
      "source": [
        "### c. Display the first 10 rows of the filtered dataset."
      ]
    },
    {
      "cell_type": "code",
      "execution_count": null,
      "metadata": {
        "id": "IqHhAaNVWn-Y"
      },
      "outputs": [],
      "source": [
        "data3 = data2.head(10)"
      ]
    },
    {
      "cell_type": "code",
      "execution_count": null,
      "metadata": {
        "id": "3U0w4WScWn-Y",
        "outputId": "9c9b9fda-98b2-4441-8e60-c2a30f9e3df6"
      },
      "outputs": [
        {
          "data": {
            "text/html": [
              "<div>\n",
              "<style scoped>\n",
              "    .dataframe tbody tr th:only-of-type {\n",
              "        vertical-align: middle;\n",
              "    }\n",
              "\n",
              "    .dataframe tbody tr th {\n",
              "        vertical-align: top;\n",
              "    }\n",
              "\n",
              "    .dataframe thead th {\n",
              "        text-align: right;\n",
              "    }\n",
              "</style>\n",
              "<table border=\"1\" class=\"dataframe\">\n",
              "  <thead>\n",
              "    <tr style=\"text-align: right;\">\n",
              "      <th></th>\n",
              "      <th>Last Name</th>\n",
              "      <th>Gender</th>\n",
              "      <th>Email</th>\n",
              "      <th>Phone</th>\n",
              "      <th>Salary</th>\n",
              "    </tr>\n",
              "  </thead>\n",
              "  <tbody>\n",
              "    <tr>\n",
              "      <th>0</th>\n",
              "      <td>Mahoney</td>\n",
              "      <td>Male</td>\n",
              "      <td>pwarner@example.org</td>\n",
              "      <td>857.139.8239</td>\n",
              "      <td>90000</td>\n",
              "    </tr>\n",
              "    <tr>\n",
              "      <th>1</th>\n",
              "      <td>Rivers</td>\n",
              "      <td>Female</td>\n",
              "      <td>fergusonkatherine@example.net</td>\n",
              "      <td>NaN</td>\n",
              "      <td>80000</td>\n",
              "    </tr>\n",
              "    <tr>\n",
              "      <th>2</th>\n",
              "      <td>Lowery</td>\n",
              "      <td>Female</td>\n",
              "      <td>fhoward@example.org</td>\n",
              "      <td>(599)782-0605</td>\n",
              "      <td>50000</td>\n",
              "    </tr>\n",
              "    <tr>\n",
              "      <th>3</th>\n",
              "      <td>Hooper</td>\n",
              "      <td>Male</td>\n",
              "      <td>zjohnston@example.com</td>\n",
              "      <td>NaN</td>\n",
              "      <td>65000</td>\n",
              "    </tr>\n",
              "    <tr>\n",
              "      <th>4</th>\n",
              "      <td>Rice</td>\n",
              "      <td>Female</td>\n",
              "      <td>elin@example.net</td>\n",
              "      <td>(390)417-1635x3010</td>\n",
              "      <td>100000</td>\n",
              "    </tr>\n",
              "    <tr>\n",
              "      <th>5</th>\n",
              "      <td>Caldwell</td>\n",
              "      <td>Male</td>\n",
              "      <td>kaitlin13@example.net</td>\n",
              "      <td>8537800927</td>\n",
              "      <td>50000</td>\n",
              "    </tr>\n",
              "    <tr>\n",
              "      <th>6</th>\n",
              "      <td>Hoffman</td>\n",
              "      <td>Male</td>\n",
              "      <td>jeffharvey@example.com</td>\n",
              "      <td>093.655.7480x7895</td>\n",
              "      <td>60000</td>\n",
              "    </tr>\n",
              "    <tr>\n",
              "      <th>7</th>\n",
              "      <td>Andersen</td>\n",
              "      <td>Male</td>\n",
              "      <td>alicia33@example.org</td>\n",
              "      <td>4709522945</td>\n",
              "      <td>65000</td>\n",
              "    </tr>\n",
              "    <tr>\n",
              "      <th>8</th>\n",
              "      <td>Mays</td>\n",
              "      <td>Male</td>\n",
              "      <td>jake50@example.com</td>\n",
              "      <td>013.820.4758</td>\n",
              "      <td>50000</td>\n",
              "    </tr>\n",
              "    <tr>\n",
              "      <th>9</th>\n",
              "      <td>Mitchell</td>\n",
              "      <td>Male</td>\n",
              "      <td>lanechristina@example.net</td>\n",
              "      <td>(560)903-5068x4985</td>\n",
              "      <td>50000</td>\n",
              "    </tr>\n",
              "  </tbody>\n",
              "</table>\n",
              "</div>"
            ],
            "text/plain": [
              "  Last Name  Gender                          Email               Phone  Salary\n",
              "0   Mahoney    Male            pwarner@example.org        857.139.8239   90000\n",
              "1    Rivers  Female  fergusonkatherine@example.net                 NaN   80000\n",
              "2    Lowery  Female            fhoward@example.org       (599)782-0605   50000\n",
              "3    Hooper    Male          zjohnston@example.com                 NaN   65000\n",
              "4      Rice  Female               elin@example.net  (390)417-1635x3010  100000\n",
              "5  Caldwell    Male          kaitlin13@example.net          8537800927   50000\n",
              "6   Hoffman    Male         jeffharvey@example.com   093.655.7480x7895   60000\n",
              "7  Andersen    Male           alicia33@example.org          4709522945   65000\n",
              "8      Mays    Male             jake50@example.com        013.820.4758   50000\n",
              "9  Mitchell    Male      lanechristina@example.net  (560)903-5068x4985   50000"
            ]
          },
          "execution_count": 60,
          "metadata": {},
          "output_type": "execute_result"
        }
      ],
      "source": [
        "data3"
      ]
    },
    {
      "cell_type": "markdown",
      "metadata": {
        "id": "sphGb7eDWn-Y"
      },
      "source": [
        "### d. Extract the ‘Salary’' column as a Series and display its last 5 values."
      ]
    },
    {
      "cell_type": "code",
      "execution_count": null,
      "metadata": {
        "id": "x3AEj1EOWn-Y"
      },
      "outputs": [],
      "source": [
        "data4 = data2['Salary']"
      ]
    },
    {
      "cell_type": "code",
      "execution_count": null,
      "metadata": {
        "id": "B7ijOFR8Wn-Y",
        "outputId": "a737cd95-5b22-4f0e-b651-fbfdfba937be"
      },
      "outputs": [
        {
          "data": {
            "text/plain": [
              "0       90000\n",
              "1       80000\n",
              "2       50000\n",
              "3       65000\n",
              "4      100000\n",
              "        ...  \n",
              "995     90000\n",
              "996     50000\n",
              "997     60000\n",
              "998    100000\n",
              "999     90000\n",
              "Name: Salary, Length: 1000, dtype: int64"
            ]
          },
          "execution_count": 62,
          "metadata": {},
          "output_type": "execute_result"
        }
      ],
      "source": [
        "data4"
      ]
    },
    {
      "cell_type": "code",
      "execution_count": null,
      "metadata": {
        "id": "tJDncF_iWn-Y",
        "outputId": "2aa7c836-5561-4fef-edcb-cacc9e4a5ab0"
      },
      "outputs": [
        {
          "data": {
            "text/plain": [
              "995     90000\n",
              "996     50000\n",
              "997     60000\n",
              "998    100000\n",
              "999     90000\n",
              "Name: Salary, dtype: int64"
            ]
          },
          "execution_count": 63,
          "metadata": {},
          "output_type": "execute_result"
        }
      ],
      "source": [
        "data4.tail()"
      ]
    },
    {
      "cell_type": "markdown",
      "metadata": {
        "id": "rewkai_5Wn-Z"
      },
      "source": [
        "## Question-9. Filter and select rows from the People_Dataset, where the “Last Name' column contains the name 'Duke',  'Gender' column contains the word Female and ‘Salary’ should be less than 85000."
      ]
    },
    {
      "cell_type": "code",
      "execution_count": null,
      "metadata": {
        "id": "B08O_Rd6Wn-Z"
      },
      "outputs": [],
      "source": [
        "\n",
        "filt_data = data[(data['Last Name'] == 'Duke') &\n",
        "                     (data['Gender'] == 'Female') &\n",
        "                     (data['Salary'] < 85000)]"
      ]
    },
    {
      "cell_type": "code",
      "execution_count": null,
      "metadata": {
        "id": "YBfLj6-QWn-Z",
        "outputId": "d9bf6987-3616-4071-87ce-af6e7ccfd5aa"
      },
      "outputs": [
        {
          "data": {
            "text/html": [
              "<div>\n",
              "<style scoped>\n",
              "    .dataframe tbody tr th:only-of-type {\n",
              "        vertical-align: middle;\n",
              "    }\n",
              "\n",
              "    .dataframe tbody tr th {\n",
              "        vertical-align: top;\n",
              "    }\n",
              "\n",
              "    .dataframe thead th {\n",
              "        text-align: right;\n",
              "    }\n",
              "</style>\n",
              "<table border=\"1\" class=\"dataframe\">\n",
              "  <thead>\n",
              "    <tr style=\"text-align: right;\">\n",
              "      <th></th>\n",
              "      <th>Index</th>\n",
              "      <th>User Id</th>\n",
              "      <th>First Name</th>\n",
              "      <th>Last Name</th>\n",
              "      <th>Gender</th>\n",
              "      <th>Email</th>\n",
              "      <th>Phone</th>\n",
              "      <th>Date of birth</th>\n",
              "      <th>Job Title</th>\n",
              "      <th>Salary</th>\n",
              "    </tr>\n",
              "  </thead>\n",
              "  <tbody>\n",
              "    <tr>\n",
              "      <th>45</th>\n",
              "      <td>46</td>\n",
              "      <td>99A502C175C4EBd</td>\n",
              "      <td>Olivia</td>\n",
              "      <td>Duke</td>\n",
              "      <td>Female</td>\n",
              "      <td>diana26@example.net</td>\n",
              "      <td>NaN</td>\n",
              "      <td>13-10-1934</td>\n",
              "      <td>Dentist</td>\n",
              "      <td>60000</td>\n",
              "    </tr>\n",
              "    <tr>\n",
              "      <th>210</th>\n",
              "      <td>211</td>\n",
              "      <td>DF17975CC0a0373</td>\n",
              "      <td>Katrina</td>\n",
              "      <td>Duke</td>\n",
              "      <td>Female</td>\n",
              "      <td>robin78@example.com</td>\n",
              "      <td>NaN</td>\n",
              "      <td>21-09-1935</td>\n",
              "      <td>Producer, radio</td>\n",
              "      <td>50000</td>\n",
              "    </tr>\n",
              "    <tr>\n",
              "      <th>457</th>\n",
              "      <td>458</td>\n",
              "      <td>dcE1B7DE83c1076</td>\n",
              "      <td>Traci</td>\n",
              "      <td>Duke</td>\n",
              "      <td>Female</td>\n",
              "      <td>perryhoffman@example.org</td>\n",
              "      <td>NaN</td>\n",
              "      <td>11-02-1997</td>\n",
              "      <td>Herbalist</td>\n",
              "      <td>50000</td>\n",
              "    </tr>\n",
              "    <tr>\n",
              "      <th>729</th>\n",
              "      <td>730</td>\n",
              "      <td>c9b482D7aa3e682</td>\n",
              "      <td>Lonnie</td>\n",
              "      <td>Duke</td>\n",
              "      <td>Female</td>\n",
              "      <td>kevinkramer@example.net</td>\n",
              "      <td>NaN</td>\n",
              "      <td>12-05-2015</td>\n",
              "      <td>Nurse, adult</td>\n",
              "      <td>70000</td>\n",
              "    </tr>\n",
              "  </tbody>\n",
              "</table>\n",
              "</div>"
            ],
            "text/plain": [
              "     Index          User Id First Name Last Name  Gender  \\\n",
              "45      46  99A502C175C4EBd     Olivia      Duke  Female   \n",
              "210    211  DF17975CC0a0373    Katrina      Duke  Female   \n",
              "457    458  dcE1B7DE83c1076      Traci      Duke  Female   \n",
              "729    730  c9b482D7aa3e682     Lonnie      Duke  Female   \n",
              "\n",
              "                        Email  Phone Date of birth        Job Title  Salary  \n",
              "45        diana26@example.net    NaN    13-10-1934          Dentist   60000  \n",
              "210       robin78@example.com    NaN    21-09-1935  Producer, radio   50000  \n",
              "457  perryhoffman@example.org    NaN    11-02-1997        Herbalist   50000  \n",
              "729   kevinkramer@example.net    NaN    12-05-2015     Nurse, adult   70000  "
            ]
          },
          "execution_count": 65,
          "metadata": {},
          "output_type": "execute_result"
        }
      ],
      "source": [
        "filt_data"
      ]
    },
    {
      "cell_type": "markdown",
      "metadata": {
        "id": "1VqFByZOWn-Z"
      },
      "source": [
        "## Question-10. Create a 7*5 Dataframe in Pandas using a series generated from 35 random integers between 1 to 6?"
      ]
    },
    {
      "cell_type": "code",
      "execution_count": null,
      "metadata": {
        "id": "WQwPQNNLWn-Z"
      },
      "outputs": [],
      "source": [
        "Series1 = pd.Series(np.random.randint(1, 6, 35))"
      ]
    },
    {
      "cell_type": "code",
      "execution_count": null,
      "metadata": {
        "id": "3VfY89riWn-Z",
        "outputId": "4fffe322-f201-4560-c806-3a19f726d6fd"
      },
      "outputs": [
        {
          "data": {
            "text/plain": [
              "0     2\n",
              "1     3\n",
              "2     5\n",
              "3     2\n",
              "4     1\n",
              "5     2\n",
              "6     2\n",
              "7     2\n",
              "8     1\n",
              "9     2\n",
              "10    2\n",
              "11    2\n",
              "12    3\n",
              "13    2\n",
              "14    5\n",
              "15    5\n",
              "16    5\n",
              "17    1\n",
              "18    2\n",
              "19    3\n",
              "20    2\n",
              "21    3\n",
              "22    2\n",
              "23    4\n",
              "24    3\n",
              "25    2\n",
              "26    3\n",
              "27    4\n",
              "28    3\n",
              "29    3\n",
              "30    1\n",
              "31    2\n",
              "32    1\n",
              "33    4\n",
              "34    5\n",
              "dtype: int32"
            ]
          },
          "execution_count": 67,
          "metadata": {},
          "output_type": "execute_result"
        }
      ],
      "source": [
        "Series1"
      ]
    },
    {
      "cell_type": "code",
      "execution_count": null,
      "metadata": {
        "id": "S89SdyFKWn-Z",
        "outputId": "e7971125-b098-43b0-d0a2-1a9fe4a9a761"
      },
      "outputs": [
        {
          "data": {
            "text/plain": [
              "array([[2, 3, 5, 2, 1],\n",
              "       [2, 2, 2, 1, 2],\n",
              "       [2, 2, 3, 2, 5],\n",
              "       [5, 5, 1, 2, 3],\n",
              "       [2, 3, 2, 4, 3],\n",
              "       [2, 3, 4, 3, 3],\n",
              "       [1, 2, 1, 4, 5]])"
            ]
          },
          "execution_count": 68,
          "metadata": {},
          "output_type": "execute_result"
        }
      ],
      "source": [
        "df = Series1.values.reshape(7,5)\n",
        "df"
      ]
    },
    {
      "cell_type": "code",
      "execution_count": null,
      "metadata": {
        "id": "6i1RY28DWn-Z",
        "outputId": "5a3380ac-f309-4851-fc46-9bb2f284bdd0"
      },
      "outputs": [
        {
          "data": {
            "text/html": [
              "<div>\n",
              "<style scoped>\n",
              "    .dataframe tbody tr th:only-of-type {\n",
              "        vertical-align: middle;\n",
              "    }\n",
              "\n",
              "    .dataframe tbody tr th {\n",
              "        vertical-align: top;\n",
              "    }\n",
              "\n",
              "    .dataframe thead th {\n",
              "        text-align: right;\n",
              "    }\n",
              "</style>\n",
              "<table border=\"1\" class=\"dataframe\">\n",
              "  <thead>\n",
              "    <tr style=\"text-align: right;\">\n",
              "      <th></th>\n",
              "      <th>0</th>\n",
              "      <th>1</th>\n",
              "      <th>2</th>\n",
              "      <th>3</th>\n",
              "      <th>4</th>\n",
              "    </tr>\n",
              "  </thead>\n",
              "  <tbody>\n",
              "    <tr>\n",
              "      <th>0</th>\n",
              "      <td>2</td>\n",
              "      <td>3</td>\n",
              "      <td>5</td>\n",
              "      <td>2</td>\n",
              "      <td>1</td>\n",
              "    </tr>\n",
              "    <tr>\n",
              "      <th>1</th>\n",
              "      <td>2</td>\n",
              "      <td>2</td>\n",
              "      <td>2</td>\n",
              "      <td>1</td>\n",
              "      <td>2</td>\n",
              "    </tr>\n",
              "    <tr>\n",
              "      <th>2</th>\n",
              "      <td>2</td>\n",
              "      <td>2</td>\n",
              "      <td>3</td>\n",
              "      <td>2</td>\n",
              "      <td>5</td>\n",
              "    </tr>\n",
              "    <tr>\n",
              "      <th>3</th>\n",
              "      <td>5</td>\n",
              "      <td>5</td>\n",
              "      <td>1</td>\n",
              "      <td>2</td>\n",
              "      <td>3</td>\n",
              "    </tr>\n",
              "    <tr>\n",
              "      <th>4</th>\n",
              "      <td>2</td>\n",
              "      <td>3</td>\n",
              "      <td>2</td>\n",
              "      <td>4</td>\n",
              "      <td>3</td>\n",
              "    </tr>\n",
              "    <tr>\n",
              "      <th>5</th>\n",
              "      <td>2</td>\n",
              "      <td>3</td>\n",
              "      <td>4</td>\n",
              "      <td>3</td>\n",
              "      <td>3</td>\n",
              "    </tr>\n",
              "    <tr>\n",
              "      <th>6</th>\n",
              "      <td>1</td>\n",
              "      <td>2</td>\n",
              "      <td>1</td>\n",
              "      <td>4</td>\n",
              "      <td>5</td>\n",
              "    </tr>\n",
              "  </tbody>\n",
              "</table>\n",
              "</div>"
            ],
            "text/plain": [
              "   0  1  2  3  4\n",
              "0  2  3  5  2  1\n",
              "1  2  2  2  1  2\n",
              "2  2  2  3  2  5\n",
              "3  5  5  1  2  3\n",
              "4  2  3  2  4  3\n",
              "5  2  3  4  3  3\n",
              "6  1  2  1  4  5"
            ]
          },
          "execution_count": 69,
          "metadata": {},
          "output_type": "execute_result"
        }
      ],
      "source": [
        "df1 = pd.DataFrame(df)\n",
        "df1"
      ]
    },
    {
      "cell_type": "markdown",
      "metadata": {
        "id": "Z2Uu8rO5Wn-a"
      },
      "source": [
        "## Question-11. Create two different Series, each of length 50, with the following criteria:\n",
        "\n",
        "### a.The first Series should contain random numbers ranging from 10 to 50.\n",
        "\n",
        "### b.The second Series should contain random numbers ranging from 100 to 1000.\n",
        "\n",
        "### c.Create a DataFrame by 'joining these Series by column, and, change the names of the columns to 'col1', 'col2', etc."
      ]
    },
    {
      "cell_type": "code",
      "execution_count": null,
      "metadata": {
        "id": "IfAhzegWWn-a"
      },
      "outputs": [],
      "source": [
        "arr = np.random.randint(10, 50, 50)\n",
        "series = pd.Series(arr)"
      ]
    },
    {
      "cell_type": "code",
      "execution_count": null,
      "metadata": {
        "id": "t6WvVx4XWn-a"
      },
      "outputs": [],
      "source": [
        "# arr"
      ]
    },
    {
      "cell_type": "code",
      "execution_count": null,
      "metadata": {
        "id": "n0nTS0nvWn-a"
      },
      "outputs": [],
      "source": [
        "#series"
      ]
    },
    {
      "cell_type": "code",
      "execution_count": null,
      "metadata": {
        "id": "BTmLIDr-Wn-a"
      },
      "outputs": [],
      "source": [
        "arr2 = np.random.randint(100, 1000, 50)\n",
        "series2 = pd.Series(arr2)"
      ]
    },
    {
      "cell_type": "code",
      "execution_count": null,
      "metadata": {
        "id": "_WqbZrMCWn-a"
      },
      "outputs": [],
      "source": [
        "#arr2"
      ]
    },
    {
      "cell_type": "code",
      "execution_count": null,
      "metadata": {
        "id": "Yb6tNxaCWn-a"
      },
      "outputs": [],
      "source": [
        "#series2"
      ]
    },
    {
      "cell_type": "code",
      "execution_count": null,
      "metadata": {
        "id": "uCHifbOFWn-a"
      },
      "outputs": [],
      "source": [
        "\n",
        "df = pd.concat([series, series2], axis=1)\n",
        "df.columns = ['col1', 'col2']"
      ]
    },
    {
      "cell_type": "code",
      "execution_count": null,
      "metadata": {
        "id": "ynaj83XQWn-a",
        "outputId": "a875224b-3e05-4db3-adfb-daf6a56900c3"
      },
      "outputs": [
        {
          "data": {
            "text/html": [
              "<div>\n",
              "<style scoped>\n",
              "    .dataframe tbody tr th:only-of-type {\n",
              "        vertical-align: middle;\n",
              "    }\n",
              "\n",
              "    .dataframe tbody tr th {\n",
              "        vertical-align: top;\n",
              "    }\n",
              "\n",
              "    .dataframe thead th {\n",
              "        text-align: right;\n",
              "    }\n",
              "</style>\n",
              "<table border=\"1\" class=\"dataframe\">\n",
              "  <thead>\n",
              "    <tr style=\"text-align: right;\">\n",
              "      <th></th>\n",
              "      <th>col1</th>\n",
              "      <th>col2</th>\n",
              "    </tr>\n",
              "  </thead>\n",
              "  <tbody>\n",
              "    <tr>\n",
              "      <th>0</th>\n",
              "      <td>27</td>\n",
              "      <td>349</td>\n",
              "    </tr>\n",
              "    <tr>\n",
              "      <th>1</th>\n",
              "      <td>15</td>\n",
              "      <td>496</td>\n",
              "    </tr>\n",
              "    <tr>\n",
              "      <th>2</th>\n",
              "      <td>24</td>\n",
              "      <td>235</td>\n",
              "    </tr>\n",
              "    <tr>\n",
              "      <th>3</th>\n",
              "      <td>38</td>\n",
              "      <td>590</td>\n",
              "    </tr>\n",
              "    <tr>\n",
              "      <th>4</th>\n",
              "      <td>45</td>\n",
              "      <td>620</td>\n",
              "    </tr>\n",
              "    <tr>\n",
              "      <th>5</th>\n",
              "      <td>45</td>\n",
              "      <td>238</td>\n",
              "    </tr>\n",
              "    <tr>\n",
              "      <th>6</th>\n",
              "      <td>45</td>\n",
              "      <td>837</td>\n",
              "    </tr>\n",
              "    <tr>\n",
              "      <th>7</th>\n",
              "      <td>13</td>\n",
              "      <td>642</td>\n",
              "    </tr>\n",
              "    <tr>\n",
              "      <th>8</th>\n",
              "      <td>19</td>\n",
              "      <td>555</td>\n",
              "    </tr>\n",
              "    <tr>\n",
              "      <th>9</th>\n",
              "      <td>39</td>\n",
              "      <td>827</td>\n",
              "    </tr>\n",
              "    <tr>\n",
              "      <th>10</th>\n",
              "      <td>18</td>\n",
              "      <td>900</td>\n",
              "    </tr>\n",
              "    <tr>\n",
              "      <th>11</th>\n",
              "      <td>20</td>\n",
              "      <td>863</td>\n",
              "    </tr>\n",
              "    <tr>\n",
              "      <th>12</th>\n",
              "      <td>45</td>\n",
              "      <td>895</td>\n",
              "    </tr>\n",
              "    <tr>\n",
              "      <th>13</th>\n",
              "      <td>12</td>\n",
              "      <td>494</td>\n",
              "    </tr>\n",
              "    <tr>\n",
              "      <th>14</th>\n",
              "      <td>30</td>\n",
              "      <td>769</td>\n",
              "    </tr>\n",
              "    <tr>\n",
              "      <th>15</th>\n",
              "      <td>39</td>\n",
              "      <td>608</td>\n",
              "    </tr>\n",
              "    <tr>\n",
              "      <th>16</th>\n",
              "      <td>33</td>\n",
              "      <td>454</td>\n",
              "    </tr>\n",
              "    <tr>\n",
              "      <th>17</th>\n",
              "      <td>18</td>\n",
              "      <td>194</td>\n",
              "    </tr>\n",
              "    <tr>\n",
              "      <th>18</th>\n",
              "      <td>14</td>\n",
              "      <td>376</td>\n",
              "    </tr>\n",
              "    <tr>\n",
              "      <th>19</th>\n",
              "      <td>16</td>\n",
              "      <td>252</td>\n",
              "    </tr>\n",
              "    <tr>\n",
              "      <th>20</th>\n",
              "      <td>19</td>\n",
              "      <td>532</td>\n",
              "    </tr>\n",
              "    <tr>\n",
              "      <th>21</th>\n",
              "      <td>28</td>\n",
              "      <td>199</td>\n",
              "    </tr>\n",
              "    <tr>\n",
              "      <th>22</th>\n",
              "      <td>35</td>\n",
              "      <td>763</td>\n",
              "    </tr>\n",
              "    <tr>\n",
              "      <th>23</th>\n",
              "      <td>11</td>\n",
              "      <td>207</td>\n",
              "    </tr>\n",
              "    <tr>\n",
              "      <th>24</th>\n",
              "      <td>26</td>\n",
              "      <td>947</td>\n",
              "    </tr>\n",
              "    <tr>\n",
              "      <th>25</th>\n",
              "      <td>18</td>\n",
              "      <td>725</td>\n",
              "    </tr>\n",
              "    <tr>\n",
              "      <th>26</th>\n",
              "      <td>47</td>\n",
              "      <td>825</td>\n",
              "    </tr>\n",
              "    <tr>\n",
              "      <th>27</th>\n",
              "      <td>46</td>\n",
              "      <td>398</td>\n",
              "    </tr>\n",
              "    <tr>\n",
              "      <th>28</th>\n",
              "      <td>47</td>\n",
              "      <td>358</td>\n",
              "    </tr>\n",
              "    <tr>\n",
              "      <th>29</th>\n",
              "      <td>30</td>\n",
              "      <td>654</td>\n",
              "    </tr>\n",
              "    <tr>\n",
              "      <th>30</th>\n",
              "      <td>32</td>\n",
              "      <td>122</td>\n",
              "    </tr>\n",
              "    <tr>\n",
              "      <th>31</th>\n",
              "      <td>39</td>\n",
              "      <td>502</td>\n",
              "    </tr>\n",
              "    <tr>\n",
              "      <th>32</th>\n",
              "      <td>25</td>\n",
              "      <td>242</td>\n",
              "    </tr>\n",
              "    <tr>\n",
              "      <th>33</th>\n",
              "      <td>17</td>\n",
              "      <td>292</td>\n",
              "    </tr>\n",
              "    <tr>\n",
              "      <th>34</th>\n",
              "      <td>41</td>\n",
              "      <td>673</td>\n",
              "    </tr>\n",
              "    <tr>\n",
              "      <th>35</th>\n",
              "      <td>15</td>\n",
              "      <td>986</td>\n",
              "    </tr>\n",
              "    <tr>\n",
              "      <th>36</th>\n",
              "      <td>22</td>\n",
              "      <td>111</td>\n",
              "    </tr>\n",
              "    <tr>\n",
              "      <th>37</th>\n",
              "      <td>47</td>\n",
              "      <td>454</td>\n",
              "    </tr>\n",
              "    <tr>\n",
              "      <th>38</th>\n",
              "      <td>43</td>\n",
              "      <td>725</td>\n",
              "    </tr>\n",
              "    <tr>\n",
              "      <th>39</th>\n",
              "      <td>15</td>\n",
              "      <td>236</td>\n",
              "    </tr>\n",
              "    <tr>\n",
              "      <th>40</th>\n",
              "      <td>30</td>\n",
              "      <td>732</td>\n",
              "    </tr>\n",
              "    <tr>\n",
              "      <th>41</th>\n",
              "      <td>45</td>\n",
              "      <td>150</td>\n",
              "    </tr>\n",
              "    <tr>\n",
              "      <th>42</th>\n",
              "      <td>32</td>\n",
              "      <td>738</td>\n",
              "    </tr>\n",
              "    <tr>\n",
              "      <th>43</th>\n",
              "      <td>25</td>\n",
              "      <td>631</td>\n",
              "    </tr>\n",
              "    <tr>\n",
              "      <th>44</th>\n",
              "      <td>27</td>\n",
              "      <td>269</td>\n",
              "    </tr>\n",
              "    <tr>\n",
              "      <th>45</th>\n",
              "      <td>33</td>\n",
              "      <td>967</td>\n",
              "    </tr>\n",
              "    <tr>\n",
              "      <th>46</th>\n",
              "      <td>17</td>\n",
              "      <td>252</td>\n",
              "    </tr>\n",
              "    <tr>\n",
              "      <th>47</th>\n",
              "      <td>25</td>\n",
              "      <td>230</td>\n",
              "    </tr>\n",
              "    <tr>\n",
              "      <th>48</th>\n",
              "      <td>38</td>\n",
              "      <td>964</td>\n",
              "    </tr>\n",
              "    <tr>\n",
              "      <th>49</th>\n",
              "      <td>13</td>\n",
              "      <td>351</td>\n",
              "    </tr>\n",
              "  </tbody>\n",
              "</table>\n",
              "</div>"
            ],
            "text/plain": [
              "    col1  col2\n",
              "0     27   349\n",
              "1     15   496\n",
              "2     24   235\n",
              "3     38   590\n",
              "4     45   620\n",
              "5     45   238\n",
              "6     45   837\n",
              "7     13   642\n",
              "8     19   555\n",
              "9     39   827\n",
              "10    18   900\n",
              "11    20   863\n",
              "12    45   895\n",
              "13    12   494\n",
              "14    30   769\n",
              "15    39   608\n",
              "16    33   454\n",
              "17    18   194\n",
              "18    14   376\n",
              "19    16   252\n",
              "20    19   532\n",
              "21    28   199\n",
              "22    35   763\n",
              "23    11   207\n",
              "24    26   947\n",
              "25    18   725\n",
              "26    47   825\n",
              "27    46   398\n",
              "28    47   358\n",
              "29    30   654\n",
              "30    32   122\n",
              "31    39   502\n",
              "32    25   242\n",
              "33    17   292\n",
              "34    41   673\n",
              "35    15   986\n",
              "36    22   111\n",
              "37    47   454\n",
              "38    43   725\n",
              "39    15   236\n",
              "40    30   732\n",
              "41    45   150\n",
              "42    32   738\n",
              "43    25   631\n",
              "44    27   269\n",
              "45    33   967\n",
              "46    17   252\n",
              "47    25   230\n",
              "48    38   964\n",
              "49    13   351"
            ]
          },
          "execution_count": 77,
          "metadata": {},
          "output_type": "execute_result"
        }
      ],
      "source": [
        "df"
      ]
    },
    {
      "cell_type": "markdown",
      "metadata": {
        "id": "zhU671iLWn-a"
      },
      "source": [
        "## Question- 12. Perform the following operations using people data set:\n",
        "\n",
        "### a.Delete the 'Email', 'Phone', and 'Date of birth' columns from the dataset.\n",
        "\n",
        "### b.Delete the rows containing any missing values.\n",
        "\n",
        "### c.Print the final output also."
      ]
    },
    {
      "cell_type": "code",
      "execution_count": null,
      "metadata": {
        "id": "5aXsaw_0Wn-a"
      },
      "outputs": [],
      "source": [
        "\n",
        "data = pd.read_csv('People Data.csv')"
      ]
    },
    {
      "cell_type": "code",
      "execution_count": null,
      "metadata": {
        "id": "UgPlLzFkWn-a",
        "outputId": "7544457e-ef01-4676-dae6-887462656cd1"
      },
      "outputs": [
        {
          "data": {
            "text/html": [
              "<div>\n",
              "<style scoped>\n",
              "    .dataframe tbody tr th:only-of-type {\n",
              "        vertical-align: middle;\n",
              "    }\n",
              "\n",
              "    .dataframe tbody tr th {\n",
              "        vertical-align: top;\n",
              "    }\n",
              "\n",
              "    .dataframe thead th {\n",
              "        text-align: right;\n",
              "    }\n",
              "</style>\n",
              "<table border=\"1\" class=\"dataframe\">\n",
              "  <thead>\n",
              "    <tr style=\"text-align: right;\">\n",
              "      <th></th>\n",
              "      <th>Index</th>\n",
              "      <th>User Id</th>\n",
              "      <th>First Name</th>\n",
              "      <th>Last Name</th>\n",
              "      <th>Gender</th>\n",
              "      <th>Email</th>\n",
              "      <th>Phone</th>\n",
              "      <th>Date of birth</th>\n",
              "      <th>Job Title</th>\n",
              "      <th>Salary</th>\n",
              "    </tr>\n",
              "  </thead>\n",
              "  <tbody>\n",
              "    <tr>\n",
              "      <th>0</th>\n",
              "      <td>1</td>\n",
              "      <td>8717bbf45cCDbEe</td>\n",
              "      <td>Shelia</td>\n",
              "      <td>Mahoney</td>\n",
              "      <td>Male</td>\n",
              "      <td>pwarner@example.org</td>\n",
              "      <td>857.139.8239</td>\n",
              "      <td>27-01-2014</td>\n",
              "      <td>Probation officer</td>\n",
              "      <td>90000</td>\n",
              "    </tr>\n",
              "    <tr>\n",
              "      <th>1</th>\n",
              "      <td>2</td>\n",
              "      <td>3d5AD30A4cD38ed</td>\n",
              "      <td>Jo</td>\n",
              "      <td>Rivers</td>\n",
              "      <td>Female</td>\n",
              "      <td>fergusonkatherine@example.net</td>\n",
              "      <td>NaN</td>\n",
              "      <td>26-07-1931</td>\n",
              "      <td>Dancer</td>\n",
              "      <td>80000</td>\n",
              "    </tr>\n",
              "    <tr>\n",
              "      <th>2</th>\n",
              "      <td>3</td>\n",
              "      <td>810Ce0F276Badec</td>\n",
              "      <td>Sheryl</td>\n",
              "      <td>Lowery</td>\n",
              "      <td>Female</td>\n",
              "      <td>fhoward@example.org</td>\n",
              "      <td>(599)782-0605</td>\n",
              "      <td>25-11-2013</td>\n",
              "      <td>Copy</td>\n",
              "      <td>50000</td>\n",
              "    </tr>\n",
              "    <tr>\n",
              "      <th>3</th>\n",
              "      <td>4</td>\n",
              "      <td>BF2a889C00f0cE1</td>\n",
              "      <td>Whitney</td>\n",
              "      <td>Hooper</td>\n",
              "      <td>Male</td>\n",
              "      <td>zjohnston@example.com</td>\n",
              "      <td>NaN</td>\n",
              "      <td>17-11-2012</td>\n",
              "      <td>Counselling psychologist</td>\n",
              "      <td>65000</td>\n",
              "    </tr>\n",
              "    <tr>\n",
              "      <th>4</th>\n",
              "      <td>5</td>\n",
              "      <td>9afFEafAe1CBBB9</td>\n",
              "      <td>Lindsey</td>\n",
              "      <td>Rice</td>\n",
              "      <td>Female</td>\n",
              "      <td>elin@example.net</td>\n",
              "      <td>(390)417-1635x3010</td>\n",
              "      <td>15-04-1923</td>\n",
              "      <td>Biomedical engineer</td>\n",
              "      <td>100000</td>\n",
              "    </tr>\n",
              "    <tr>\n",
              "      <th>...</th>\n",
              "      <td>...</td>\n",
              "      <td>...</td>\n",
              "      <td>...</td>\n",
              "      <td>...</td>\n",
              "      <td>...</td>\n",
              "      <td>...</td>\n",
              "      <td>...</td>\n",
              "      <td>...</td>\n",
              "      <td>...</td>\n",
              "      <td>...</td>\n",
              "    </tr>\n",
              "    <tr>\n",
              "      <th>995</th>\n",
              "      <td>996</td>\n",
              "      <td>fedF4c7Fd9e7cFa</td>\n",
              "      <td>Kurt</td>\n",
              "      <td>Bryant</td>\n",
              "      <td>Female</td>\n",
              "      <td>lyonsdaisy@example.net</td>\n",
              "      <td>021.775.2933</td>\n",
              "      <td>05-01-1959</td>\n",
              "      <td>Personnel officer</td>\n",
              "      <td>90000</td>\n",
              "    </tr>\n",
              "    <tr>\n",
              "      <th>996</th>\n",
              "      <td>997</td>\n",
              "      <td>ECddaFEDdEc4FAB</td>\n",
              "      <td>Donna</td>\n",
              "      <td>Barry</td>\n",
              "      <td>Female</td>\n",
              "      <td>dariusbryan@example.com</td>\n",
              "      <td>001-149-710-7799x721</td>\n",
              "      <td>06-10-2001</td>\n",
              "      <td>Education administrator</td>\n",
              "      <td>50000</td>\n",
              "    </tr>\n",
              "    <tr>\n",
              "      <th>997</th>\n",
              "      <td>998</td>\n",
              "      <td>2adde51d8B8979E</td>\n",
              "      <td>Cathy</td>\n",
              "      <td>Mckinney</td>\n",
              "      <td>Female</td>\n",
              "      <td>georgechan@example.org</td>\n",
              "      <td>+1-750-774-4128x33265</td>\n",
              "      <td>13-05-1918</td>\n",
              "      <td>Commercial/residential surveyor</td>\n",
              "      <td>60000</td>\n",
              "    </tr>\n",
              "    <tr>\n",
              "      <th>998</th>\n",
              "      <td>999</td>\n",
              "      <td>Fb2FE369D1E171A</td>\n",
              "      <td>Jermaine</td>\n",
              "      <td>Phelps</td>\n",
              "      <td>Male</td>\n",
              "      <td>wanda04@example.net</td>\n",
              "      <td>(915)292-2254</td>\n",
              "      <td>31-08-1971</td>\n",
              "      <td>Ambulance person</td>\n",
              "      <td>100000</td>\n",
              "    </tr>\n",
              "    <tr>\n",
              "      <th>999</th>\n",
              "      <td>1000</td>\n",
              "      <td>8b756f6231DDC6e</td>\n",
              "      <td>Lee</td>\n",
              "      <td>Tran</td>\n",
              "      <td>Female</td>\n",
              "      <td>deannablack@example.org</td>\n",
              "      <td>079.752.5424x67259</td>\n",
              "      <td>24-01-1947</td>\n",
              "      <td>Nurse, learning disability</td>\n",
              "      <td>90000</td>\n",
              "    </tr>\n",
              "  </tbody>\n",
              "</table>\n",
              "<p>1000 rows × 10 columns</p>\n",
              "</div>"
            ],
            "text/plain": [
              "     Index          User Id First Name Last Name  Gender  \\\n",
              "0        1  8717bbf45cCDbEe     Shelia   Mahoney    Male   \n",
              "1        2  3d5AD30A4cD38ed         Jo    Rivers  Female   \n",
              "2        3  810Ce0F276Badec     Sheryl    Lowery  Female   \n",
              "3        4  BF2a889C00f0cE1    Whitney    Hooper    Male   \n",
              "4        5  9afFEafAe1CBBB9    Lindsey      Rice  Female   \n",
              "..     ...              ...        ...       ...     ...   \n",
              "995    996  fedF4c7Fd9e7cFa       Kurt    Bryant  Female   \n",
              "996    997  ECddaFEDdEc4FAB      Donna     Barry  Female   \n",
              "997    998  2adde51d8B8979E      Cathy  Mckinney  Female   \n",
              "998    999  Fb2FE369D1E171A   Jermaine    Phelps    Male   \n",
              "999   1000  8b756f6231DDC6e        Lee      Tran  Female   \n",
              "\n",
              "                             Email                  Phone Date of birth  \\\n",
              "0              pwarner@example.org           857.139.8239    27-01-2014   \n",
              "1    fergusonkatherine@example.net                    NaN    26-07-1931   \n",
              "2              fhoward@example.org          (599)782-0605    25-11-2013   \n",
              "3            zjohnston@example.com                    NaN    17-11-2012   \n",
              "4                 elin@example.net     (390)417-1635x3010    15-04-1923   \n",
              "..                             ...                    ...           ...   \n",
              "995         lyonsdaisy@example.net           021.775.2933    05-01-1959   \n",
              "996        dariusbryan@example.com   001-149-710-7799x721    06-10-2001   \n",
              "997         georgechan@example.org  +1-750-774-4128x33265    13-05-1918   \n",
              "998            wanda04@example.net          (915)292-2254    31-08-1971   \n",
              "999        deannablack@example.org     079.752.5424x67259    24-01-1947   \n",
              "\n",
              "                           Job Title  Salary  \n",
              "0                  Probation officer   90000  \n",
              "1                             Dancer   80000  \n",
              "2                               Copy   50000  \n",
              "3           Counselling psychologist   65000  \n",
              "4                Biomedical engineer  100000  \n",
              "..                               ...     ...  \n",
              "995                Personnel officer   90000  \n",
              "996          Education administrator   50000  \n",
              "997  Commercial/residential surveyor   60000  \n",
              "998                 Ambulance person  100000  \n",
              "999       Nurse, learning disability   90000  \n",
              "\n",
              "[1000 rows x 10 columns]"
            ]
          },
          "execution_count": 79,
          "metadata": {},
          "output_type": "execute_result"
        }
      ],
      "source": [
        "data"
      ]
    },
    {
      "cell_type": "code",
      "execution_count": null,
      "metadata": {
        "id": "tL_1QUxzWn-b"
      },
      "outputs": [],
      "source": [
        "data = data.drop(['Email', 'Phone', 'Date of birth'], axis=1)"
      ]
    },
    {
      "cell_type": "code",
      "execution_count": null,
      "metadata": {
        "id": "YdzfylMLWn-b",
        "outputId": "2d7eba3d-7773-4b32-b560-4443152487d6"
      },
      "outputs": [
        {
          "data": {
            "text/html": [
              "<div>\n",
              "<style scoped>\n",
              "    .dataframe tbody tr th:only-of-type {\n",
              "        vertical-align: middle;\n",
              "    }\n",
              "\n",
              "    .dataframe tbody tr th {\n",
              "        vertical-align: top;\n",
              "    }\n",
              "\n",
              "    .dataframe thead th {\n",
              "        text-align: right;\n",
              "    }\n",
              "</style>\n",
              "<table border=\"1\" class=\"dataframe\">\n",
              "  <thead>\n",
              "    <tr style=\"text-align: right;\">\n",
              "      <th></th>\n",
              "      <th>Index</th>\n",
              "      <th>User Id</th>\n",
              "      <th>First Name</th>\n",
              "      <th>Last Name</th>\n",
              "      <th>Gender</th>\n",
              "      <th>Job Title</th>\n",
              "      <th>Salary</th>\n",
              "    </tr>\n",
              "  </thead>\n",
              "  <tbody>\n",
              "    <tr>\n",
              "      <th>0</th>\n",
              "      <td>1</td>\n",
              "      <td>8717bbf45cCDbEe</td>\n",
              "      <td>Shelia</td>\n",
              "      <td>Mahoney</td>\n",
              "      <td>Male</td>\n",
              "      <td>Probation officer</td>\n",
              "      <td>90000</td>\n",
              "    </tr>\n",
              "    <tr>\n",
              "      <th>1</th>\n",
              "      <td>2</td>\n",
              "      <td>3d5AD30A4cD38ed</td>\n",
              "      <td>Jo</td>\n",
              "      <td>Rivers</td>\n",
              "      <td>Female</td>\n",
              "      <td>Dancer</td>\n",
              "      <td>80000</td>\n",
              "    </tr>\n",
              "    <tr>\n",
              "      <th>2</th>\n",
              "      <td>3</td>\n",
              "      <td>810Ce0F276Badec</td>\n",
              "      <td>Sheryl</td>\n",
              "      <td>Lowery</td>\n",
              "      <td>Female</td>\n",
              "      <td>Copy</td>\n",
              "      <td>50000</td>\n",
              "    </tr>\n",
              "    <tr>\n",
              "      <th>3</th>\n",
              "      <td>4</td>\n",
              "      <td>BF2a889C00f0cE1</td>\n",
              "      <td>Whitney</td>\n",
              "      <td>Hooper</td>\n",
              "      <td>Male</td>\n",
              "      <td>Counselling psychologist</td>\n",
              "      <td>65000</td>\n",
              "    </tr>\n",
              "    <tr>\n",
              "      <th>4</th>\n",
              "      <td>5</td>\n",
              "      <td>9afFEafAe1CBBB9</td>\n",
              "      <td>Lindsey</td>\n",
              "      <td>Rice</td>\n",
              "      <td>Female</td>\n",
              "      <td>Biomedical engineer</td>\n",
              "      <td>100000</td>\n",
              "    </tr>\n",
              "    <tr>\n",
              "      <th>...</th>\n",
              "      <td>...</td>\n",
              "      <td>...</td>\n",
              "      <td>...</td>\n",
              "      <td>...</td>\n",
              "      <td>...</td>\n",
              "      <td>...</td>\n",
              "      <td>...</td>\n",
              "    </tr>\n",
              "    <tr>\n",
              "      <th>995</th>\n",
              "      <td>996</td>\n",
              "      <td>fedF4c7Fd9e7cFa</td>\n",
              "      <td>Kurt</td>\n",
              "      <td>Bryant</td>\n",
              "      <td>Female</td>\n",
              "      <td>Personnel officer</td>\n",
              "      <td>90000</td>\n",
              "    </tr>\n",
              "    <tr>\n",
              "      <th>996</th>\n",
              "      <td>997</td>\n",
              "      <td>ECddaFEDdEc4FAB</td>\n",
              "      <td>Donna</td>\n",
              "      <td>Barry</td>\n",
              "      <td>Female</td>\n",
              "      <td>Education administrator</td>\n",
              "      <td>50000</td>\n",
              "    </tr>\n",
              "    <tr>\n",
              "      <th>997</th>\n",
              "      <td>998</td>\n",
              "      <td>2adde51d8B8979E</td>\n",
              "      <td>Cathy</td>\n",
              "      <td>Mckinney</td>\n",
              "      <td>Female</td>\n",
              "      <td>Commercial/residential surveyor</td>\n",
              "      <td>60000</td>\n",
              "    </tr>\n",
              "    <tr>\n",
              "      <th>998</th>\n",
              "      <td>999</td>\n",
              "      <td>Fb2FE369D1E171A</td>\n",
              "      <td>Jermaine</td>\n",
              "      <td>Phelps</td>\n",
              "      <td>Male</td>\n",
              "      <td>Ambulance person</td>\n",
              "      <td>100000</td>\n",
              "    </tr>\n",
              "    <tr>\n",
              "      <th>999</th>\n",
              "      <td>1000</td>\n",
              "      <td>8b756f6231DDC6e</td>\n",
              "      <td>Lee</td>\n",
              "      <td>Tran</td>\n",
              "      <td>Female</td>\n",
              "      <td>Nurse, learning disability</td>\n",
              "      <td>90000</td>\n",
              "    </tr>\n",
              "  </tbody>\n",
              "</table>\n",
              "<p>1000 rows × 7 columns</p>\n",
              "</div>"
            ],
            "text/plain": [
              "     Index          User Id First Name Last Name  Gender  \\\n",
              "0        1  8717bbf45cCDbEe     Shelia   Mahoney    Male   \n",
              "1        2  3d5AD30A4cD38ed         Jo    Rivers  Female   \n",
              "2        3  810Ce0F276Badec     Sheryl    Lowery  Female   \n",
              "3        4  BF2a889C00f0cE1    Whitney    Hooper    Male   \n",
              "4        5  9afFEafAe1CBBB9    Lindsey      Rice  Female   \n",
              "..     ...              ...        ...       ...     ...   \n",
              "995    996  fedF4c7Fd9e7cFa       Kurt    Bryant  Female   \n",
              "996    997  ECddaFEDdEc4FAB      Donna     Barry  Female   \n",
              "997    998  2adde51d8B8979E      Cathy  Mckinney  Female   \n",
              "998    999  Fb2FE369D1E171A   Jermaine    Phelps    Male   \n",
              "999   1000  8b756f6231DDC6e        Lee      Tran  Female   \n",
              "\n",
              "                           Job Title  Salary  \n",
              "0                  Probation officer   90000  \n",
              "1                             Dancer   80000  \n",
              "2                               Copy   50000  \n",
              "3           Counselling psychologist   65000  \n",
              "4                Biomedical engineer  100000  \n",
              "..                               ...     ...  \n",
              "995                Personnel officer   90000  \n",
              "996          Education administrator   50000  \n",
              "997  Commercial/residential surveyor   60000  \n",
              "998                 Ambulance person  100000  \n",
              "999       Nurse, learning disability   90000  \n",
              "\n",
              "[1000 rows x 7 columns]"
            ]
          },
          "execution_count": 81,
          "metadata": {},
          "output_type": "execute_result"
        }
      ],
      "source": [
        "data"
      ]
    },
    {
      "cell_type": "code",
      "execution_count": null,
      "metadata": {
        "id": "CQBl8sZEWn-b"
      },
      "outputs": [],
      "source": [
        "data = data.dropna()"
      ]
    },
    {
      "cell_type": "markdown",
      "metadata": {
        "id": "EhGiuprSWn-b"
      },
      "source": [
        "## Question-13. Create two NumPy arrays, x and y, each containing 100 random float values between 0 and 1. Perform the following tasks using Matplotlib and NumPy:\n",
        "\n",
        "### a.Create a scatter plot using x and y, setting the color of the points to red and the marker style to 'o'.\n",
        "\n",
        "### b. Add a horizontal line at y = 0.5 using a dashed line style and label it as 'y = 0.5'.\n",
        "\n",
        "### c. Add a vertical line at x = 0.5 using a dotted line style and label it as 'x = 0.5'.\n",
        "\n",
        "### d. Label the x-axis as 'X-axis' and the y-axis as 'Y-axis'.\n",
        "\n",
        "### e. Set the title of the plot as 'Advanced Scatter Plot of Random Values'.\n",
        "\n",
        "### f. Display a legend for the scatter plot, the horizontal line, and the vertical line"
      ]
    },
    {
      "cell_type": "code",
      "execution_count": null,
      "metadata": {
        "id": "phAFCilrWn-b"
      },
      "outputs": [],
      "source": [
        "import numpy as np\n",
        "import matplotlib.pyplot as plt"
      ]
    },
    {
      "cell_type": "code",
      "execution_count": null,
      "metadata": {
        "id": "-0diDDPoWn-b"
      },
      "outputs": [],
      "source": [
        "x = np.random.rand(100)"
      ]
    },
    {
      "cell_type": "code",
      "execution_count": null,
      "metadata": {
        "id": "qx0ubZMdWn-b"
      },
      "outputs": [],
      "source": [
        "y = np.random.rand(100)"
      ]
    },
    {
      "cell_type": "code",
      "execution_count": null,
      "metadata": {
        "id": "OVtTCyj5Wn-b",
        "outputId": "ca89f567-7d4b-4eed-e5b1-859f9a280307"
      },
      "outputs": [
        {
          "data": {
            "image/png": "[encoded data removed]",
            "text/plain": [
              "<Figure size 640x480 with 1 Axes>"
            ]
          },
          "metadata": {},
          "output_type": "display_data"
        }
      ],
      "source": [
        "plt.scatter(x, y, color='red', marker='o', label='Random Points')\n",
        "plt.axhline(y=0.5, color='black', linestyle='--', label=0.5)\n",
        "plt.axvline(x=0.5, color='black', linestyle=':', label='x = 0.5')\n",
        "plt.title('Advanced Scatter Plot of Random Values')\n",
        "plt.ylabel(\"Y-axis\")\n",
        "plt.xlabel(\"X-axis\")\n",
        "plt.legend()\n",
        "plt.show()"
      ]
    },
    {
      "cell_type": "markdown",
      "metadata": {
        "id": "r5XxqilbWn-b"
      },
      "source": [
        "## Question-14. Create a time-series dataset in a Pandas DataFrame with columns: 'Date', 'Temperature', 'Humidity' and Perform the following tasks using Matplotlib:\n",
        "\n",
        "### a. Plot the 'Temperature' and 'Humidity' on the same plot with different y-axes (left y-axis for 'Temperature' and right y-axis for 'Humidity').\n",
        "\n",
        "### b. Label the x-axis as 'Date'.\n",
        "\n",
        "### c. Set the title of the plot as 'Temperature and Humidity Over Time'."
      ]
    },
    {
      "cell_type": "code",
      "execution_count": null,
      "metadata": {
        "id": "ECvgKSc1Wn-c"
      },
      "outputs": [],
      "source": [
        "Date = pd.date_range('2024-01-01', periods=365)\n",
        "Temperature = np.random.uniform(20, 40, 365)\n",
        "Humidity = np.random.uniform(50, 90, 365)"
      ]
    },
    {
      "cell_type": "code",
      "execution_count": null,
      "metadata": {
        "id": "3BEdqqk2Wn-c"
      },
      "outputs": [],
      "source": [
        "data = pd.DataFrame({'Date': Date, 'Temperature': Temperature, 'Humidity': Humidity})"
      ]
    },
    {
      "cell_type": "code",
      "execution_count": null,
      "metadata": {
        "id": "3ym7GewzWn-c",
        "outputId": "1a2a9b57-2244-48d9-e268-2d9bc60788bb"
      },
      "outputs": [
        {
          "data": {
            "image/png": "[encoded data removed]",
            "text/plain": [
              "<Figure size 640x480 with 2 Axes>"
            ]
          },
          "metadata": {},
          "output_type": "display_data"
        }
      ],
      "source": [
        "fig, ax1 = plt.subplots()\n",
        "ax1.plot(data['Date'], data['Temperature'], color='blue')\n",
        "ax1.set_xlabel('Date')\n",
        "ax1.set_ylabel('Temperature (°C)', color='blue')\n",
        "ax1.tick_params(axis='y', labelcolor='blue')\n",
        "\n",
        "ax2 = ax1.twinx()\n",
        "ax2.plot(data['Date'], data['Humidity'], color='red')\n",
        "ax2.set_ylabel('Humidity (%)', color='red')\n",
        "ax2.tick_params(axis='y', labelcolor='red')\n",
        "\n",
        "plt.title('Temperature and Humidity Over Time')\n",
        "\n",
        "plt.show()"
      ]
    },
    {
      "cell_type": "markdown",
      "metadata": {
        "id": "pZnCIizNWn-c"
      },
      "source": [
        "## Question-15.Create a NumPy array data containing 1000 samples from a normal distribution. Perform the following tasks using Matplotlib:\n",
        "### a. Plot a histogram of the data with 30 bins.\n",
        "\n",
        "### b. Overlay a line Plot representing the normal distribution's Probability density function (PDF).\n",
        "\n",
        "### c. Label the x-axis as 'Value' and the y-axis as 'Frequency/Probability'.\n",
        "\n",
        "### d. Set the title of the Plot as 'Histogram with PDF Overlay'."
      ]
    },
    {
      "cell_type": "code",
      "execution_count": 1,
      "metadata": {
        "id": "7Yq1681yWn-c"
      },
      "outputs": [],
      "source": [
        "import numpy as np"
      ]
    },
    {
      "cell_type": "code",
      "execution_count": 2,
      "metadata": {
        "id": "HUiKVAgoWn-c"
      },
      "outputs": [],
      "source": [
        "import matplotlib.pyplot as plt"
      ]
    },
    {
      "cell_type": "code",
      "execution_count": 3,
      "metadata": {
        "id": "PmV0wNUFWn-c"
      },
      "outputs": [],
      "source": [
        "Data = np.random.normal(0,1,1000)"
      ]
    },
    {
      "cell_type": "code",
      "execution_count": 4,
      "metadata": {
        "colab": {
          "base_uri": "https://localhost:8080/",
          "height": 509
        },
        "id": "UsUahtr7Wn-c",
        "outputId": "c05b54b9-700f-484d-a3ad-827f65f87e5c"
      },
      "outputs": [
        {
          "output_type": "stream",
          "name": "stderr",
          "text": [
            "WARNING:matplotlib.legend:No artists with labels found to put in legend.  Note that artists whose label start with an underscore are ignored when legend() is called with no argument.\n"
          ]
        },
        {
          "output_type": "display_data",
          "data": {
            "text/plain": [
              "<Figure size 640x480 with 1 Axes>"
            ],
            "image/png": "[encoded data removed]"
          },
          "metadata": {}
        }
      ],
      "source": [
        "from scipy.stats import norm\n",
        "plt.hist(Data, bins=30, color=\"r\")\n",
        "x = np.linspace(-3, 3, 100)\n",
        "pdf = norm.pdf(x, 0, 1)\n",
        "plt.plot(x, pdf)\n",
        "plt.xlabel('Value')\n",
        "plt.ylabel('Frequency/Probability')\n",
        "plt.title('Histogram with PDF Overlay')\n",
        "plt.legend()\n",
        "plt.show()\n"
      ]
    },
    {
      "cell_type": "markdown",
      "metadata": {
        "id": "dt5reqNGWn-c"
      },
      "source": [
        "## Question-16.(Is it same as qustion 15 (d) ? )Set the title of the plot as 'Histogram with PDF Overlay'."
      ]
    },
    {
      "cell_type": "markdown",
      "metadata": {
        "id": "Sou6FIkCWn-d"
      },
      "source": [
        "## Question-17.Create a Seaborn scatter plot of two random arrays, color points based on their position relative to the origin (quadrants), add a legend, label the axes, and set the title as 'Quadrant-wise Scatter Plot'."
      ]
    },
    {
      "cell_type": "code",
      "execution_count": 5,
      "metadata": {
        "colab": {
          "base_uri": "https://localhost:8080/",
          "height": 472
        },
        "id": "YHFh5EdsWn-d",
        "outputId": "8c7bbba2-4d16-4d80-8ff3-1a35686d19ae"
      },
      "outputs": [
        {
          "output_type": "display_data",
          "data": {
            "text/plain": [
              "<Figure size 640x480 with 1 Axes>"
            ],
            "image/png": "[encoded data removed]"
          },
          "metadata": {}
        }
      ],
      "source": [
        "\n",
        "import seaborn as sns\n",
        "\n",
        "x = np.random.uniform(-10, 10,100)\n",
        "y = np.random.uniform(-10, 10, 100)\n",
        "\n",
        "quadrant = np.where((x >= 0) & (y >= 0), 'Q1', np.where((x < 0) & (y >= 0), 'Q2', np.where((x < 0) & (y < 0), 'Q3', 'Q4')))\n",
        "\n",
        "sns.scatterplot(x=x, y=y, hue=quadrant, palette=['red', 'green', 'blue', 'black'], )\n",
        "\n",
        "plt.legend(title='Quadrant')\n",
        "\n",
        "plt.xlabel('X-axis')\n",
        "plt.ylabel('Y-axis')\n",
        "\n",
        "plt.title('Quadrant-wise Scatter Plot')\n",
        "\n",
        "plt.show()"
      ]
    },
    {
      "cell_type": "markdown",
      "metadata": {
        "id": "8QK5pA3yWn-d"
      },
      "source": [
        "## Question-18. With Bokeh, plot a line chart of a sine wave function, add grid lines, label the axes, and set the title as 'Sine Wave Function."
      ]
    },
    {
      "cell_type": "code",
      "execution_count": 8,
      "metadata": {
        "id": "h7_2SkSrWn-d"
      },
      "outputs": [],
      "source": [
        "from bokeh.plotting import figure, show\n",
        "\n",
        "y = np.sin(x)\n",
        "\n",
        "p = figure(title='Sine Wave Function', x_axis_label='x-axis', y_axis_label='y- axis')\n",
        "p.grid\n",
        "p.line(x, y, line_width=2, line_color='blue')\n",
        "show(p)"
      ]
    },
    {
      "cell_type": "markdown",
      "metadata": {
        "id": "Zc6jwwzvWn-d"
      },
      "source": [
        "## Question-19.Using Bokeh, generate a bar chart of randomly generated categorical data, color bars based on their values, add hover tooltips to display exact values, label the axes, and set the title as 'Random Categorical Bar Chart."
      ]
    },
    {
      "cell_type": "code",
      "execution_count": 9,
      "metadata": {
        "id": "gqLrFSU9Wn-d"
      },
      "outputs": [],
      "source": [
        "from bokeh.plotting import figure, show\n",
        "from bokeh.models import HoverTool\n",
        "\n",
        "categories = ['Huzaifa', 'Subhan', 'Arif', 'Ashish', 'HoneySingh']\n",
        "values = np.random.randint(1, 100, size=len(categories))\n",
        "\n",
        "p = figure(title='Random Categorical Bar Chart', x_range=categories, x_axis_label='Category', y_axis_label='Value')\n",
        "hover = HoverTool(tooltips=[('Category', '@x'),('Value', '@top')])\n",
        "p.add_tools(hover)\n",
        "p.vbar(x=categories, top=values, width=0.9,fill_color='blue')\n",
        "\n",
        "show(p)"
      ]
    },
    {
      "cell_type": "markdown",
      "metadata": {
        "id": "34PSFZogWn-d"
      },
      "source": [
        "## Question-20.Using Plotly, create a basic line plot of a randomly generated dataset, label the axes, and set the title as 'Simple Line Plot'."
      ]
    },
    {
      "cell_type": "code",
      "execution_count": 10,
      "metadata": {
        "colab": {
          "base_uri": "https://localhost:8080/",
          "height": 542
        },
        "id": "qZHIfrcLWn-e",
        "outputId": "705d8d53-5723-4ad8-e2c2-08721e2eae26"
      },
      "outputs": [
        {
          "output_type": "display_data",
          "data": {
            "text/html": [
              "<html>\n",
              "<head><meta charset=\"utf-8\" /></head>\n",
              "<body>\n",
              "    <div>            <script src=\"https://cdnjs.cloudflare.com/ajax/libs/mathjax/2.7.5/MathJax.js?config=TeX-AMS-MML_SVG\"></script><script type=\"text/javascript\">if (window.MathJax && window.MathJax.Hub && window.MathJax.Hub.Config) {window.MathJax.Hub.Config({SVG: {font: \"STIX-Web\"}});}</script>                <script type=\"text/javascript\">window.PlotlyConfig = {MathJaxConfig: 'local'};</script>\n",
              "        <script charset=\"utf-8\" src=\"https://cdn.plot.ly/plotly-2.35.2.min.js\"></script>                <div id=\"3eacf280-d447-416c-8690-42e7308dba1b\" class=\"plotly-graph-div\" style=\"height:525px; width:100%;\"></div>            <script type=\"text/javascript\">                                    window.PLOTLYENV=window.PLOTLYENV || {};                                    if (document.getElementById(\"3eacf280-d447-416c-8690-42e7308dba1b\")) {                    Plotly.newPlot(                        \"3eacf280-d447-416c-8690-42e7308dba1b\",                        [{\"x\":[1,2,3,4,5,6,7,8,9,10],\"y\":[24,54,90,13,33,22,6,50,95,57],\"type\":\"scatter\"}],                        {\"template\":{\"data\":{\"histogram2dcontour\":[{\"type\":\"histogram2dcontour\",\"colorbar\":{\"outlinewidth\":0,\"ticks\":\"\"},\"colorscale\":[[0.0,\"#0d0887\"],[0.1111111111111111,\"#46039f\"],[0.2222222222222222,\"#7201a8\"],[0.3333333333333333,\"#9c179e\"],[0.4444444444444444,\"#bd3786\"],[0.5555555555555556,\"#d8576b\"],[0.6666666666666666,\"#ed7953\"],[0.7777777777777778,\"#fb9f3a\"],[0.8888888888888888,\"#fdca26\"],[1.0,\"#f0f921\"]]}],\"choropleth\":[{\"type\":\"choropleth\",\"colorbar\":{\"outlinewidth\":0,\"ticks\":\"\"}}],\"histogram2d\":[{\"type\":\"histogram2d\",\"colorbar\":{\"outlinewidth\":0,\"ticks\":\"\"},\"colorscale\":[[0.0,\"#0d0887\"],[0.1111111111111111,\"#46039f\"],[0.2222222222222222,\"#7201a8\"],[0.3333333333333333,\"#9c179e\"],[0.4444444444444444,\"#bd3786\"],[0.5555555555555556,\"#d8576b\"],[0.6666666666666666,\"#ed7953\"],[0.7777777777777778,\"#fb9f3a\"],[0.8888888888888888,\"#fdca26\"],[1.0,\"#f0f921\"]]}],\"heatmap\":[{\"type\":\"heatmap\",\"colorbar\":{\"outlinewidth\":0,\"ticks\":\"\"},\"colorscale\":[[0.0,\"#0d0887\"],[0.1111111111111111,\"#46039f\"],[0.2222222222222222,\"#7201a8\"],[0.3333333333333333,\"#9c179e\"],[0.4444444444444444,\"#bd3786\"],[0.5555555555555556,\"#d8576b\"],[0.6666666666666666,\"#ed7953\"],[0.7777777777777778,\"#fb9f3a\"],[0.8888888888888888,\"#fdca26\"],[1.0,\"#f0f921\"]]}],\"heatmapgl\":[{\"type\":\"heatmapgl\",\"colorbar\":{\"outlinewidth\":0,\"ticks\":\"\"},\"colorscale\":[[0.0,\"#0d0887\"],[0.1111111111111111,\"#46039f\"],[0.2222222222222222,\"#7201a8\"],[0.3333333333333333,\"#9c179e\"],[0.4444444444444444,\"#bd3786\"],[0.5555555555555556,\"#d8576b\"],[0.6666666666666666,\"#ed7953\"],[0.7777777777777778,\"#fb9f3a\"],[0.8888888888888888,\"#fdca26\"],[1.0,\"#f0f921\"]]}],\"contourcarpet\":[{\"type\":\"contourcarpet\",\"colorbar\":{\"outlinewidth\":0,\"ticks\":\"\"}}],\"contour\":[{\"type\":\"contour\",\"colorbar\":{\"outlinewidth\":0,\"ticks\":\"\"},\"colorscale\":[[0.0,\"#0d0887\"],[0.1111111111111111,\"#46039f\"],[0.2222222222222222,\"#7201a8\"],[0.3333333333333333,\"#9c179e\"],[0.4444444444444444,\"#bd3786\"],[0.5555555555555556,\"#d8576b\"],[0.6666666666666666,\"#ed7953\"],[0.7777777777777778,\"#fb9f3a\"],[0.8888888888888888,\"#fdca26\"],[1.0,\"#f0f921\"]]}],\"surface\":[{\"type\":\"surface\",\"colorbar\":{\"outlinewidth\":0,\"ticks\":\"\"},\"colorscale\":[[0.0,\"#0d0887\"],[0.1111111111111111,\"#46039f\"],[0.2222222222222222,\"#7201a8\"],[0.3333333333333333,\"#9c179e\"],[0.4444444444444444,\"#bd3786\"],[0.5555555555555556,\"#d8576b\"],[0.6666666666666666,\"#ed7953\"],[0.7777777777777778,\"#fb9f3a\"],[0.8888888888888888,\"#fdca26\"],[1.0,\"#f0f921\"]]}],\"mesh3d\":[{\"type\":\"mesh3d\",\"colorbar\":{\"outlinewidth\":0,\"ticks\":\"\"}}],\"scatter\":[{\"fillpattern\":{\"fillmode\":\"overlay\",\"size\":10,\"solidity\":0.2},\"type\":\"scatter\"}],\"parcoords\":[{\"type\":\"parcoords\",\"line\":{\"colorbar\":{\"outlinewidth\":0,\"ticks\":\"\"}}}],\"scatterpolargl\":[{\"type\":\"scatterpolargl\",\"marker\":{\"colorbar\":{\"outlinewidth\":0,\"ticks\":\"\"}}}],\"bar\":[{\"error_x\":{\"color\":\"#2a3f5f\"},\"error_y\":{\"color\":\"#2a3f5f\"},\"marker\":{\"line\":{\"color\":\"#E5ECF6\",\"width\":0.5},\"pattern\":{\"fillmode\":\"overlay\",\"size\":10,\"solidity\":0.2}},\"type\":\"bar\"}],\"scattergeo\":[{\"type\":\"scattergeo\",\"marker\":{\"colorbar\":{\"outlinewidth\":0,\"ticks\":\"\"}}}],\"scatterpolar\":[{\"type\":\"scatterpolar\",\"marker\":{\"colorbar\":{\"outlinewidth\":0,\"ticks\":\"\"}}}],\"histogram\":[{\"marker\":{\"pattern\":{\"fillmode\":\"overlay\",\"size\":10,\"solidity\":0.2}},\"type\":\"histogram\"}],\"scattergl\":[{\"type\":\"scattergl\",\"marker\":{\"colorbar\":{\"outlinewidth\":0,\"ticks\":\"\"}}}],\"scatter3d\":[{\"type\":\"scatter3d\",\"line\":{\"colorbar\":{\"outlinewidth\":0,\"ticks\":\"\"}},\"marker\":{\"colorbar\":{\"outlinewidth\":0,\"ticks\":\"\"}}}],\"scattermapbox\":[{\"type\":\"scattermapbox\",\"marker\":{\"colorbar\":{\"outlinewidth\":0,\"ticks\":\"\"}}}],\"scatterternary\":[{\"type\":\"scatterternary\",\"marker\":{\"colorbar\":{\"outlinewidth\":0,\"ticks\":\"\"}}}],\"scattercarpet\":[{\"type\":\"scattercarpet\",\"marker\":{\"colorbar\":{\"outlinewidth\":0,\"ticks\":\"\"}}}],\"carpet\":[{\"aaxis\":{\"endlinecolor\":\"#2a3f5f\",\"gridcolor\":\"white\",\"linecolor\":\"white\",\"minorgridcolor\":\"white\",\"startlinecolor\":\"#2a3f5f\"},\"baxis\":{\"endlinecolor\":\"#2a3f5f\",\"gridcolor\":\"white\",\"linecolor\":\"white\",\"minorgridcolor\":\"white\",\"startlinecolor\":\"#2a3f5f\"},\"type\":\"carpet\"}],\"table\":[{\"cells\":{\"fill\":{\"color\":\"#EBF0F8\"},\"line\":{\"color\":\"white\"}},\"header\":{\"fill\":{\"color\":\"#C8D4E3\"},\"line\":{\"color\":\"white\"}},\"type\":\"table\"}],\"barpolar\":[{\"marker\":{\"line\":{\"color\":\"#E5ECF6\",\"width\":0.5},\"pattern\":{\"fillmode\":\"overlay\",\"size\":10,\"solidity\":0.2}},\"type\":\"barpolar\"}],\"pie\":[{\"automargin\":true,\"type\":\"pie\"}]},\"layout\":{\"autotypenumbers\":\"strict\",\"colorway\":[\"#636efa\",\"#EF553B\",\"#00cc96\",\"#ab63fa\",\"#FFA15A\",\"#19d3f3\",\"#FF6692\",\"#B6E880\",\"#FF97FF\",\"#FECB52\"],\"font\":{\"color\":\"#2a3f5f\"},\"hovermode\":\"closest\",\"hoverlabel\":{\"align\":\"left\"},\"paper_bgcolor\":\"white\",\"plot_bgcolor\":\"#E5ECF6\",\"polar\":{\"bgcolor\":\"#E5ECF6\",\"angularaxis\":{\"gridcolor\":\"white\",\"linecolor\":\"white\",\"ticks\":\"\"},\"radialaxis\":{\"gridcolor\":\"white\",\"linecolor\":\"white\",\"ticks\":\"\"}},\"ternary\":{\"bgcolor\":\"#E5ECF6\",\"aaxis\":{\"gridcolor\":\"white\",\"linecolor\":\"white\",\"ticks\":\"\"},\"baxis\":{\"gridcolor\":\"white\",\"linecolor\":\"white\",\"ticks\":\"\"},\"caxis\":{\"gridcolor\":\"white\",\"linecolor\":\"white\",\"ticks\":\"\"}},\"coloraxis\":{\"colorbar\":{\"outlinewidth\":0,\"ticks\":\"\"}},\"colorscale\":{\"sequential\":[[0.0,\"#0d0887\"],[0.1111111111111111,\"#46039f\"],[0.2222222222222222,\"#7201a8\"],[0.3333333333333333,\"#9c179e\"],[0.4444444444444444,\"#bd3786\"],[0.5555555555555556,\"#d8576b\"],[0.6666666666666666,\"#ed7953\"],[0.7777777777777778,\"#fb9f3a\"],[0.8888888888888888,\"#fdca26\"],[1.0,\"#f0f921\"]],\"sequentialminus\":[[0.0,\"#0d0887\"],[0.1111111111111111,\"#46039f\"],[0.2222222222222222,\"#7201a8\"],[0.3333333333333333,\"#9c179e\"],[0.4444444444444444,\"#bd3786\"],[0.5555555555555556,\"#d8576b\"],[0.6666666666666666,\"#ed7953\"],[0.7777777777777778,\"#fb9f3a\"],[0.8888888888888888,\"#fdca26\"],[1.0,\"#f0f921\"]],\"diverging\":[[0,\"#8e0152\"],[0.1,\"#c51b7d\"],[0.2,\"#de77ae\"],[0.3,\"#f1b6da\"],[0.4,\"#fde0ef\"],[0.5,\"#f7f7f7\"],[0.6,\"#e6f5d0\"],[0.7,\"#b8e186\"],[0.8,\"#7fbc41\"],[0.9,\"#4d9221\"],[1,\"#276419\"]]},\"xaxis\":{\"gridcolor\":\"white\",\"linecolor\":\"white\",\"ticks\":\"\",\"title\":{\"standoff\":15},\"zerolinecolor\":\"white\",\"automargin\":true,\"zerolinewidth\":2},\"yaxis\":{\"gridcolor\":\"white\",\"linecolor\":\"white\",\"ticks\":\"\",\"title\":{\"standoff\":15},\"zerolinecolor\":\"white\",\"automargin\":true,\"zerolinewidth\":2},\"scene\":{\"xaxis\":{\"backgroundcolor\":\"#E5ECF6\",\"gridcolor\":\"white\",\"linecolor\":\"white\",\"showbackground\":true,\"ticks\":\"\",\"zerolinecolor\":\"white\",\"gridwidth\":2},\"yaxis\":{\"backgroundcolor\":\"#E5ECF6\",\"gridcolor\":\"white\",\"linecolor\":\"white\",\"showbackground\":true,\"ticks\":\"\",\"zerolinecolor\":\"white\",\"gridwidth\":2},\"zaxis\":{\"backgroundcolor\":\"#E5ECF6\",\"gridcolor\":\"white\",\"linecolor\":\"white\",\"showbackground\":true,\"ticks\":\"\",\"zerolinecolor\":\"white\",\"gridwidth\":2}},\"shapedefaults\":{\"line\":{\"color\":\"#2a3f5f\"}},\"annotationdefaults\":{\"arrowcolor\":\"#2a3f5f\",\"arrowhead\":0,\"arrowwidth\":1},\"geo\":{\"bgcolor\":\"white\",\"landcolor\":\"#E5ECF6\",\"subunitcolor\":\"white\",\"showland\":true,\"showlakes\":true,\"lakecolor\":\"white\"},\"title\":{\"x\":0.05},\"mapbox\":{\"style\":\"light\"}}},\"title\":{\"text\":\"Simple Line Plot\"},\"xaxis\":{\"title\":{\"text\":\"X-axis\"}},\"yaxis\":{\"title\":{\"text\":\"Y-axis\"}}},                        {\"responsive\": true}                    ).then(function(){\n",
              "                            \n",
              "var gd = document.getElementById('3eacf280-d447-416c-8690-42e7308dba1b');\n",
              "var x = new MutationObserver(function (mutations, observer) {{\n",
              "        var display = window.getComputedStyle(gd).display;\n",
              "        if (!display || display === 'none') {{\n",
              "            console.log([gd, 'removed!']);\n",
              "            Plotly.purge(gd);\n",
              "            observer.disconnect();\n",
              "        }}\n",
              "}});\n",
              "\n",
              "// Listen for the removal of the full notebook cells\n",
              "var notebookContainer = gd.closest('#notebook-container');\n",
              "if (notebookContainer) {{\n",
              "    x.observe(notebookContainer, {childList: true});\n",
              "}}\n",
              "\n",
              "// Listen for the clearing of the current output cell\n",
              "var outputEl = gd.closest('.output');\n",
              "if (outputEl) {{\n",
              "    x.observe(outputEl, {childList: true});\n",
              "}}\n",
              "\n",
              "                        })                };                            </script>        </div>\n",
              "</body>\n",
              "</html>"
            ]
          },
          "metadata": {}
        }
      ],
      "source": [
        "import plotly.graph_objects as go\n",
        "\n",
        "x = np.arange(1, 11)\n",
        "y = np.random.randint(1, 100, size=len(x))\n",
        "\n",
        "fig = go.Figure(data=[go.Scatter(x=x, y=y)])\n",
        "\n",
        "fig.update_layout(title='Simple Line Plot',xaxis_title='X-axis',yaxis_title='Y-axis')\n",
        "fig.show()"
      ]
    },
    {
      "cell_type": "markdown",
      "metadata": {
        "id": "_mswjc4fWn-e"
      },
      "source": [
        "## Question-21.Using Plotly, create an interactive pie chart of randomly generated data, add labels and percentages, set the title as 'Interactive Pie Chart'."
      ]
    },
    {
      "cell_type": "code",
      "execution_count": 14,
      "metadata": {
        "colab": {
          "base_uri": "https://localhost:8080/",
          "height": 542
        },
        "id": "4LEGBSs6Wn-e",
        "outputId": "a5f22c5b-c31c-4fa1-d601-d40c8667e50b"
      },
      "outputs": [
        {
          "output_type": "display_data",
          "data": {
            "text/html": [
              "<html>\n",
              "<head><meta charset=\"utf-8\" /></head>\n",
              "<body>\n",
              "    <div>            <script src=\"https://cdnjs.cloudflare.com/ajax/libs/mathjax/2.7.5/MathJax.js?config=TeX-AMS-MML_SVG\"></script><script type=\"text/javascript\">if (window.MathJax && window.MathJax.Hub && window.MathJax.Hub.Config) {window.MathJax.Hub.Config({SVG: {font: \"STIX-Web\"}});}</script>                <script type=\"text/javascript\">window.PlotlyConfig = {MathJaxConfig: 'local'};</script>\n",
              "        <script charset=\"utf-8\" src=\"https://cdn.plot.ly/plotly-2.35.2.min.js\"></script>                <div id=\"03e76ad8-d0a9-41fd-9068-9771f39703f3\" class=\"plotly-graph-div\" style=\"height:525px; width:100%;\"></div>            <script type=\"text/javascript\">                                    window.PLOTLYENV=window.PLOTLYENV || {};                                    if (document.getElementById(\"03e76ad8-d0a9-41fd-9068-9771f39703f3\")) {                    Plotly.newPlot(                        \"03e76ad8-d0a9-41fd-9068-9771f39703f3\",                        [{\"labels\":[\"Anurag\",\"Ashish\",\"Huzaifa\",\"Subhan\",\"Tony_Stark\"],\"values\":[54,16,12,31,10],\"type\":\"pie\"}],                        {\"template\":{\"data\":{\"histogram2dcontour\":[{\"type\":\"histogram2dcontour\",\"colorbar\":{\"outlinewidth\":0,\"ticks\":\"\"},\"colorscale\":[[0.0,\"#0d0887\"],[0.1111111111111111,\"#46039f\"],[0.2222222222222222,\"#7201a8\"],[0.3333333333333333,\"#9c179e\"],[0.4444444444444444,\"#bd3786\"],[0.5555555555555556,\"#d8576b\"],[0.6666666666666666,\"#ed7953\"],[0.7777777777777778,\"#fb9f3a\"],[0.8888888888888888,\"#fdca26\"],[1.0,\"#f0f921\"]]}],\"choropleth\":[{\"type\":\"choropleth\",\"colorbar\":{\"outlinewidth\":0,\"ticks\":\"\"}}],\"histogram2d\":[{\"type\":\"histogram2d\",\"colorbar\":{\"outlinewidth\":0,\"ticks\":\"\"},\"colorscale\":[[0.0,\"#0d0887\"],[0.1111111111111111,\"#46039f\"],[0.2222222222222222,\"#7201a8\"],[0.3333333333333333,\"#9c179e\"],[0.4444444444444444,\"#bd3786\"],[0.5555555555555556,\"#d8576b\"],[0.6666666666666666,\"#ed7953\"],[0.7777777777777778,\"#fb9f3a\"],[0.8888888888888888,\"#fdca26\"],[1.0,\"#f0f921\"]]}],\"heatmap\":[{\"type\":\"heatmap\",\"colorbar\":{\"outlinewidth\":0,\"ticks\":\"\"},\"colorscale\":[[0.0,\"#0d0887\"],[0.1111111111111111,\"#46039f\"],[0.2222222222222222,\"#7201a8\"],[0.3333333333333333,\"#9c179e\"],[0.4444444444444444,\"#bd3786\"],[0.5555555555555556,\"#d8576b\"],[0.6666666666666666,\"#ed7953\"],[0.7777777777777778,\"#fb9f3a\"],[0.8888888888888888,\"#fdca26\"],[1.0,\"#f0f921\"]]}],\"heatmapgl\":[{\"type\":\"heatmapgl\",\"colorbar\":{\"outlinewidth\":0,\"ticks\":\"\"},\"colorscale\":[[0.0,\"#0d0887\"],[0.1111111111111111,\"#46039f\"],[0.2222222222222222,\"#7201a8\"],[0.3333333333333333,\"#9c179e\"],[0.4444444444444444,\"#bd3786\"],[0.5555555555555556,\"#d8576b\"],[0.6666666666666666,\"#ed7953\"],[0.7777777777777778,\"#fb9f3a\"],[0.8888888888888888,\"#fdca26\"],[1.0,\"#f0f921\"]]}],\"contourcarpet\":[{\"type\":\"contourcarpet\",\"colorbar\":{\"outlinewidth\":0,\"ticks\":\"\"}}],\"contour\":[{\"type\":\"contour\",\"colorbar\":{\"outlinewidth\":0,\"ticks\":\"\"},\"colorscale\":[[0.0,\"#0d0887\"],[0.1111111111111111,\"#46039f\"],[0.2222222222222222,\"#7201a8\"],[0.3333333333333333,\"#9c179e\"],[0.4444444444444444,\"#bd3786\"],[0.5555555555555556,\"#d8576b\"],[0.6666666666666666,\"#ed7953\"],[0.7777777777777778,\"#fb9f3a\"],[0.8888888888888888,\"#fdca26\"],[1.0,\"#f0f921\"]]}],\"surface\":[{\"type\":\"surface\",\"colorbar\":{\"outlinewidth\":0,\"ticks\":\"\"},\"colorscale\":[[0.0,\"#0d0887\"],[0.1111111111111111,\"#46039f\"],[0.2222222222222222,\"#7201a8\"],[0.3333333333333333,\"#9c179e\"],[0.4444444444444444,\"#bd3786\"],[0.5555555555555556,\"#d8576b\"],[0.6666666666666666,\"#ed7953\"],[0.7777777777777778,\"#fb9f3a\"],[0.8888888888888888,\"#fdca26\"],[1.0,\"#f0f921\"]]}],\"mesh3d\":[{\"type\":\"mesh3d\",\"colorbar\":{\"outlinewidth\":0,\"ticks\":\"\"}}],\"scatter\":[{\"fillpattern\":{\"fillmode\":\"overlay\",\"size\":10,\"solidity\":0.2},\"type\":\"scatter\"}],\"parcoords\":[{\"type\":\"parcoords\",\"line\":{\"colorbar\":{\"outlinewidth\":0,\"ticks\":\"\"}}}],\"scatterpolargl\":[{\"type\":\"scatterpolargl\",\"marker\":{\"colorbar\":{\"outlinewidth\":0,\"ticks\":\"\"}}}],\"bar\":[{\"error_x\":{\"color\":\"#2a3f5f\"},\"error_y\":{\"color\":\"#2a3f5f\"},\"marker\":{\"line\":{\"color\":\"#E5ECF6\",\"width\":0.5},\"pattern\":{\"fillmode\":\"overlay\",\"size\":10,\"solidity\":0.2}},\"type\":\"bar\"}],\"scattergeo\":[{\"type\":\"scattergeo\",\"marker\":{\"colorbar\":{\"outlinewidth\":0,\"ticks\":\"\"}}}],\"scatterpolar\":[{\"type\":\"scatterpolar\",\"marker\":{\"colorbar\":{\"outlinewidth\":0,\"ticks\":\"\"}}}],\"histogram\":[{\"marker\":{\"pattern\":{\"fillmode\":\"overlay\",\"size\":10,\"solidity\":0.2}},\"type\":\"histogram\"}],\"scattergl\":[{\"type\":\"scattergl\",\"marker\":{\"colorbar\":{\"outlinewidth\":0,\"ticks\":\"\"}}}],\"scatter3d\":[{\"type\":\"scatter3d\",\"line\":{\"colorbar\":{\"outlinewidth\":0,\"ticks\":\"\"}},\"marker\":{\"colorbar\":{\"outlinewidth\":0,\"ticks\":\"\"}}}],\"scattermapbox\":[{\"type\":\"scattermapbox\",\"marker\":{\"colorbar\":{\"outlinewidth\":0,\"ticks\":\"\"}}}],\"scatterternary\":[{\"type\":\"scatterternary\",\"marker\":{\"colorbar\":{\"outlinewidth\":0,\"ticks\":\"\"}}}],\"scattercarpet\":[{\"type\":\"scattercarpet\",\"marker\":{\"colorbar\":{\"outlinewidth\":0,\"ticks\":\"\"}}}],\"carpet\":[{\"aaxis\":{\"endlinecolor\":\"#2a3f5f\",\"gridcolor\":\"white\",\"linecolor\":\"white\",\"minorgridcolor\":\"white\",\"startlinecolor\":\"#2a3f5f\"},\"baxis\":{\"endlinecolor\":\"#2a3f5f\",\"gridcolor\":\"white\",\"linecolor\":\"white\",\"minorgridcolor\":\"white\",\"startlinecolor\":\"#2a3f5f\"},\"type\":\"carpet\"}],\"table\":[{\"cells\":{\"fill\":{\"color\":\"#EBF0F8\"},\"line\":{\"color\":\"white\"}},\"header\":{\"fill\":{\"color\":\"#C8D4E3\"},\"line\":{\"color\":\"white\"}},\"type\":\"table\"}],\"barpolar\":[{\"marker\":{\"line\":{\"color\":\"#E5ECF6\",\"width\":0.5},\"pattern\":{\"fillmode\":\"overlay\",\"size\":10,\"solidity\":0.2}},\"type\":\"barpolar\"}],\"pie\":[{\"automargin\":true,\"type\":\"pie\"}]},\"layout\":{\"autotypenumbers\":\"strict\",\"colorway\":[\"#636efa\",\"#EF553B\",\"#00cc96\",\"#ab63fa\",\"#FFA15A\",\"#19d3f3\",\"#FF6692\",\"#B6E880\",\"#FF97FF\",\"#FECB52\"],\"font\":{\"color\":\"#2a3f5f\"},\"hovermode\":\"closest\",\"hoverlabel\":{\"align\":\"left\"},\"paper_bgcolor\":\"white\",\"plot_bgcolor\":\"#E5ECF6\",\"polar\":{\"bgcolor\":\"#E5ECF6\",\"angularaxis\":{\"gridcolor\":\"white\",\"linecolor\":\"white\",\"ticks\":\"\"},\"radialaxis\":{\"gridcolor\":\"white\",\"linecolor\":\"white\",\"ticks\":\"\"}},\"ternary\":{\"bgcolor\":\"#E5ECF6\",\"aaxis\":{\"gridcolor\":\"white\",\"linecolor\":\"white\",\"ticks\":\"\"},\"baxis\":{\"gridcolor\":\"white\",\"linecolor\":\"white\",\"ticks\":\"\"},\"caxis\":{\"gridcolor\":\"white\",\"linecolor\":\"white\",\"ticks\":\"\"}},\"coloraxis\":{\"colorbar\":{\"outlinewidth\":0,\"ticks\":\"\"}},\"colorscale\":{\"sequential\":[[0.0,\"#0d0887\"],[0.1111111111111111,\"#46039f\"],[0.2222222222222222,\"#7201a8\"],[0.3333333333333333,\"#9c179e\"],[0.4444444444444444,\"#bd3786\"],[0.5555555555555556,\"#d8576b\"],[0.6666666666666666,\"#ed7953\"],[0.7777777777777778,\"#fb9f3a\"],[0.8888888888888888,\"#fdca26\"],[1.0,\"#f0f921\"]],\"sequentialminus\":[[0.0,\"#0d0887\"],[0.1111111111111111,\"#46039f\"],[0.2222222222222222,\"#7201a8\"],[0.3333333333333333,\"#9c179e\"],[0.4444444444444444,\"#bd3786\"],[0.5555555555555556,\"#d8576b\"],[0.6666666666666666,\"#ed7953\"],[0.7777777777777778,\"#fb9f3a\"],[0.8888888888888888,\"#fdca26\"],[1.0,\"#f0f921\"]],\"diverging\":[[0,\"#8e0152\"],[0.1,\"#c51b7d\"],[0.2,\"#de77ae\"],[0.3,\"#f1b6da\"],[0.4,\"#fde0ef\"],[0.5,\"#f7f7f7\"],[0.6,\"#e6f5d0\"],[0.7,\"#b8e186\"],[0.8,\"#7fbc41\"],[0.9,\"#4d9221\"],[1,\"#276419\"]]},\"xaxis\":{\"gridcolor\":\"white\",\"linecolor\":\"white\",\"ticks\":\"\",\"title\":{\"standoff\":15},\"zerolinecolor\":\"white\",\"automargin\":true,\"zerolinewidth\":2},\"yaxis\":{\"gridcolor\":\"white\",\"linecolor\":\"white\",\"ticks\":\"\",\"title\":{\"standoff\":15},\"zerolinecolor\":\"white\",\"automargin\":true,\"zerolinewidth\":2},\"scene\":{\"xaxis\":{\"backgroundcolor\":\"#E5ECF6\",\"gridcolor\":\"white\",\"linecolor\":\"white\",\"showbackground\":true,\"ticks\":\"\",\"zerolinecolor\":\"white\",\"gridwidth\":2},\"yaxis\":{\"backgroundcolor\":\"#E5ECF6\",\"gridcolor\":\"white\",\"linecolor\":\"white\",\"showbackground\":true,\"ticks\":\"\",\"zerolinecolor\":\"white\",\"gridwidth\":2},\"zaxis\":{\"backgroundcolor\":\"#E5ECF6\",\"gridcolor\":\"white\",\"linecolor\":\"white\",\"showbackground\":true,\"ticks\":\"\",\"zerolinecolor\":\"white\",\"gridwidth\":2}},\"shapedefaults\":{\"line\":{\"color\":\"#2a3f5f\"}},\"annotationdefaults\":{\"arrowcolor\":\"#2a3f5f\",\"arrowhead\":0,\"arrowwidth\":1},\"geo\":{\"bgcolor\":\"white\",\"landcolor\":\"#E5ECF6\",\"subunitcolor\":\"white\",\"showland\":true,\"showlakes\":true,\"lakecolor\":\"white\"},\"title\":{\"x\":0.05},\"mapbox\":{\"style\":\"light\"}}},\"title\":{\"text\":\"Interactive Pie Chart\"}},                        {\"responsive\": true}                    ).then(function(){\n",
              "                            \n",
              "var gd = document.getElementById('03e76ad8-d0a9-41fd-9068-9771f39703f3');\n",
              "var x = new MutationObserver(function (mutations, observer) {{\n",
              "        var display = window.getComputedStyle(gd).display;\n",
              "        if (!display || display === 'none') {{\n",
              "            console.log([gd, 'removed!']);\n",
              "            Plotly.purge(gd);\n",
              "            observer.disconnect();\n",
              "        }}\n",
              "}});\n",
              "\n",
              "// Listen for the removal of the full notebook cells\n",
              "var notebookContainer = gd.closest('#notebook-container');\n",
              "if (notebookContainer) {{\n",
              "    x.observe(notebookContainer, {childList: true});\n",
              "}}\n",
              "\n",
              "// Listen for the clearing of the current output cell\n",
              "var outputEl = gd.closest('.output');\n",
              "if (outputEl) {{\n",
              "    x.observe(outputEl, {childList: true});\n",
              "}}\n",
              "\n",
              "                        })                };                            </script>        </div>\n",
              "</body>\n",
              "</html>"
            ]
          },
          "metadata": {}
        }
      ],
      "source": [
        "labels = [ 'Anurag', 'Ashish', 'Huzaifa','Subhan', 'Tony_Stark']\n",
        "values = np.random.randint(1, 100, size=len(labels))\n",
        "\n",
        "fig = go.Figure(data=[go.Pie(labels=labels, values=values)])\n",
        "\n",
        "fig.update_layout(title='Interactive Pie Chart')\n",
        "\n",
        "fig.show()"
      ]
    },
    {
      "cell_type": "code",
      "source": [],
      "metadata": {
        "id": "s3Lx7Z2-XImL"
      },
      "execution_count": null,
      "outputs": []
    }
  ],
  "metadata": {
    "kernelspec": {
      "display_name": "Python 3",
      "language": "python",
      "name": "python3"
    },
    "language_info": {
      "codemirror_mode": {
        "name": "ipython",
        "version": 3
      },
      "file_extension": ".py",
      "mimetype": "text/x-python",
      "name": "python",
      "nbconvert_exporter": "python",
      "pygments_lexer": "ipython3",
      "version": "3.11.5"
    },
    "colab": {
      "provenance": []
    }
  },
  "nbformat": 4,
  "nbformat_minor": 0
}