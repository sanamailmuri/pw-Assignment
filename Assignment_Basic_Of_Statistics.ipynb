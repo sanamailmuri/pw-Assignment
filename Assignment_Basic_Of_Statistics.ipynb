{
 "cells": [
  {
   "cell_type": "markdown",
   "metadata": {},
   "source": [
    "#### Question-1. Explain the different types of data (qualitative and quantitative) and provide examples of each. Discuss nominal, ordinal, interval, and ratio scales."
   ]
  },
  {
   "cell_type": "markdown",
   "metadata": {},
   "source": [
    "Data can be broadly categorized into two main types: qualitative and quantitative. \n",
    "\n",
    "### Qualitative Data :-\n",
    "Qualitative data also known as categorical data refers to non-numeric information that describes characteristics or qualities. This type of data is often used to categorize or label variables.\n",
    "### Examples of Qualitative Data:-\n",
    "#### Nominal Data: \n",
    "This is the simplest form of qualitative data and no order in catagorical data naturally\n",
    "\n",
    "Gender (male, female, rather not say)\n",
    "Marital status (single, married, divorced)\n",
    "Types of Blood Group(A+, B+, AB+, O+, O-, A-, B-, AB-)"
   ]
  },
  {
   "cell_type": "markdown",
   "metadata": {},
   "source": [
    "### Ordinal Data: \n",
    "This type of data have order in catagorical data naturally.\n",
    "\n",
    "Education level (high school, bachelor's, master's, doctorate)\n",
    "Satisfaction ratings (very dissatisfied, dissatisfied, neutral, satisfied, very satisfied)\n",
    "Socioeconomic status (low, middle, high)"
   ]
  },
  {
   "cell_type": "markdown",
   "metadata": {},
   "source": [
    "### Quantitative Data:-\n",
    "Quantitative data refers to numeric information that can be measured and expressed mathematically.\n",
    "\n",
    "### Examples of Quantitative Data:\n",
    "\n",
    "#### Interval Data: \n",
    "This type of quantitative data has meaningful intervals between values, but lacks a true zero point.\n",
    "\n",
    "#### Ratio Data: \n",
    "This is the most informative type of quantitative data, where both differences and ratios are meaningful, and there is a true zero point.\n",
    "\n",
    "Height (0 cm means no height)\n",
    "\n",
    "Weight (0 kg means no weight)\n",
    "\n",
    "Income (0 dollars means no income)"
   ]
  },
  {
   "cell_type": "markdown",
   "metadata": {},
   "source": [
    "### Question-2. What are the measures of central tendency, and when should you use each? Discuss the mean, median, and mode with examples and situations where each is appropriate."
   ]
  },
  {
   "cell_type": "markdown",
   "metadata": {},
   "source": [
    "Measures of Central Tendency means represent the center point of a data set in other words we say if we find that one value which represent all data in a dataset. by using he three most common measures mean, median, and mode."
   ]
  },
  {
   "cell_type": "markdown",
   "metadata": {},
   "source": [
    "### 1. Mean:-\n",
    "The mean means average of a data,in other words we can say Arthematic mid value of data and it is calculated by summing all the values in a dataset and dividing by the number of values present in dataset.\n",
    "\n"
   ]
  },
  {
   "cell_type": "markdown",
   "metadata": {},
   "source": [
    "### Use Cases:- \n",
    "Use the mean when the data is continuous and normally distributed.\n",
    "\n",
    "It is appropriate when there are no outliers that would affect the average."
   ]
  },
  {
   "cell_type": "markdown",
   "metadata": {},
   "source": [
    "## "
   ]
  },
  {
   "cell_type": "code",
   "execution_count": 2,
   "metadata": {},
   "outputs": [
    {
     "name": "stdout",
     "output_type": "stream",
     "text": [
      "Mean of age:- 25.8\n"
     ]
    }
   ],
   "source": [
    "# Example of Mean\n",
    "age = [22, 24, 25, 30, 28]\n",
    "mean_age = sum(age) / len(age)\n",
    "print(f\"Mean of age:- {mean_age}\")"
   ]
  },
  {
   "cell_type": "code",
   "execution_count": 5,
   "metadata": {},
   "outputs": [
    {
     "data": {
      "text/plain": [
       "25.8"
      ]
     },
     "execution_count": 5,
     "metadata": {},
     "output_type": "execute_result"
    }
   ],
   "source": [
    "import numpy as np\n",
    "np.mean(age)"
   ]
  },
  {
   "cell_type": "markdown",
   "metadata": {},
   "source": [
    "#### 2. Median\n",
    "The median is the middle value of a dataset when it is ordered. If there is an even number of observations, the median is the average of the two middle numbers. The median is robust to outliers, making it a better measure of central tendency for skewed distributions.\n",
    "\n",
    "### Use Case:-\n",
    "\n",
    "Use the median when the dataset contains outliers or is skewed.\n",
    "\n",
    "It is particularly useful for ordinal data or for continuous data that does not follow a normal distribution."
   ]
  },
  {
   "cell_type": "code",
   "execution_count": 7,
   "metadata": {},
   "outputs": [
    {
     "data": {
      "text/plain": [
       "65.2"
      ]
     },
     "execution_count": 7,
     "metadata": {},
     "output_type": "execute_result"
    }
   ],
   "source": [
    "weight = [55, 56.6, 65.2, 85, 72]\n",
    "np.median(weight)"
   ]
  },
  {
   "cell_type": "markdown",
   "metadata": {},
   "source": [
    "#### 3. Mode\n",
    "The mode is the value that appears most frequently in a dataset.\n",
    "\n",
    "### Use Case:-\n",
    "\n",
    "Use the mode when dealing with categorical data where you want to know the most common element.\n",
    "It is also useful for numerical data to identify the most frequently occurring value."
   ]
  },
  {
   "cell_type": "code",
   "execution_count": 9,
   "metadata": {},
   "outputs": [
    {
     "data": {
      "text/plain": [
       "150"
      ]
     },
     "execution_count": 9,
     "metadata": {},
     "output_type": "execute_result"
    }
   ],
   "source": [
    "import statistics\n",
    "height = [152, 150, 150, 150, 150.2, 150.7, 151,150.8]\n",
    "statistics.mode(height)"
   ]
  },
  {
   "cell_type": "markdown",
   "metadata": {},
   "source": [
    "## Question-3.Explain the concept of dispersion. How do variance and standard deviation measure the spread of data?"
   ]
  },
  {
   "cell_type": "markdown",
   "metadata": {},
   "source": [
    " Dispersion provides insights into the variability or spread of the data indicating how much the values deviate from the average. "
   ]
  },
  {
   "cell_type": "markdown",
   "metadata": {},
   "source": [
    "### 1. Variance:-\n",
    "Work of Variance is which each data point in a dataset differs from the mean of the dataset. It is calculated as the average of the squared differences between each data point and the mean."
   ]
  },
  {
   "cell_type": "code",
   "execution_count": 10,
   "metadata": {},
   "outputs": [
    {
     "data": {
      "text/plain": [
       "24.0"
      ]
     },
     "execution_count": 10,
     "metadata": {},
     "output_type": "execute_result"
    }
   ],
   "source": [
    "import numpy as np\n",
    "\n",
    "data = [10, 12, 23, 23, 16, 23, 21, 16]\n",
    "np.var(data)"
   ]
  },
  {
   "cell_type": "markdown",
   "metadata": {},
   "source": [
    "### 2.Standard Deviation:-\n",
    "\n",
    "Standard deviation is the square root of the variance. It provides a measure of dispersion in the same units as the data."
   ]
  },
  {
   "cell_type": "code",
   "execution_count": 11,
   "metadata": {},
   "outputs": [
    {
     "data": {
      "text/plain": [
       "4.898979485566356"
      ]
     },
     "execution_count": 11,
     "metadata": {},
     "output_type": "execute_result"
    }
   ],
   "source": [
    "np.std(data)"
   ]
  },
  {
   "cell_type": "markdown",
   "metadata": {},
   "source": [
    "## Importance of Variance & Standard Deviation:-\n",
    "==> Standard deviation is often preferred over variance because it is expressed in the same units as the data.\n",
    "\n",
    "==> Both measures allow for comparison between different datasets or distributions. A higher variance or standard deviation indicates greater variability, while a lower value suggests that the data points are closer to the mean."
   ]
  },
  {
   "cell_type": "markdown",
   "metadata": {},
   "source": [
    "## Question - 4. What is a box plot, and what can it tell you about the distribution of data?"
   ]
  },
  {
   "cell_type": "markdown",
   "metadata": {},
   "source": [
    "A box plot, also known as a whisker plot or box-and-whisker plot and it is a graphical representation of the distribution of a dataset that provides a visual summary of its central tendency, dispersion, and potential outliers."
   ]
  },
  {
   "cell_type": "markdown",
   "metadata": {},
   "source": [
    "The main part of the box plot is the box itself which represents the interquartile range (IQR). The IQR is the range between the first quartile (Q1) and the third quartile (Q3):\n",
    "\n",
    "Q1 (25th percentile): The value below which 25% of the data.\n",
    "\n",
    "Q3 (75th percentile): The value below which 75% of the data.\n",
    "\n",
    "The box is drawn from Q1 to Q3, and a line inside the box indicates the median Q2, which is the middle value of the dataset."
   ]
  },
  {
   "cell_type": "markdown",
   "metadata": {},
   "source": [
    "### Whiskers: \n",
    "The lines extending from the box (the \"whiskers\") indicate the range of the data. The whiskers typically extend to the smallest and largest values within 1.5 times the IQR from the quartiles."
   ]
  },
  {
   "cell_type": "markdown",
   "metadata": {},
   "source": [
    "### Outliers: \n",
    "These are values that are significantly higher or lower than the rest of the data."
   ]
  },
  {
   "cell_type": "markdown",
   "metadata": {},
   "source": [
    "### Distribution of data By a Box Plot:-\n",
    "A Box Plot can tell about central tendency it means the median line within the box provides a quick reference for the central value of the dataset.\n",
    "### Spread of Data: \n",
    "IQR indicates the spread of the middle 50% of the data. A longer box suggests greater variability, while a shorter box indicates less variability.\n",
    "### Skewness: \n",
    "The position of the median line within the box can indicate skewness\n",
    "### Outliers: \n",
    "Individual points plotted outside the whiskers indicate outliers, which can be important for understanding the distribution and for further analysis."
   ]
  },
  {
   "cell_type": "code",
   "execution_count": 12,
   "metadata": {},
   "outputs": [],
   "source": [
    "data = [12, 15, 14, 10, 18, 21, 19, 25, 30, 31, 29, 27, 35, 40, 22]"
   ]
  },
  {
   "cell_type": "code",
   "execution_count": 13,
   "metadata": {},
   "outputs": [
    {
     "data": {
      "text/plain": [
       "<Axes: >"
      ]
     },
     "execution_count": 13,
     "metadata": {},
     "output_type": "execute_result"
    },
    {
     "data": {
      "image/png": "[encoded data removed]",
      "text/plain": [
       "<Figure size 640x480 with 1 Axes>"
      ]
     },
     "metadata": {},
     "output_type": "display_data"
    }
   ],
   "source": [
    "import seaborn as sns\n",
    "sns.boxplot(data)"
   ]
  },
  {
   "cell_type": "markdown",
   "metadata": {},
   "source": [
    "## Question-5. Discuss the role of random sampling in making inferences about populations."
   ]
  },
  {
   "cell_type": "markdown",
   "metadata": {},
   "source": [
    "Random sampling is a fundamental concept in statistics and research methodology that plays a crucial role in making inferences about populations based on sample data."
   ]
  },
  {
   "cell_type": "markdown",
   "metadata": {},
   "source": [
    "### Types of Random Sampling:-\n",
    "\n",
    "\n",
    "#### Simple Random Sampling:\n",
    "Every individual has an equal chance of being selected. This can be achieved through methods like lottery systems or random number generators.\n",
    "\n",
    "#### Stratified Random Sampling:\n",
    "The population is divided into subgroups (strata) based on specific characteristics and random samples are drawn from each stratum.\n",
    "\n",
    "#### Systematic Sampling:\n",
    "Individuals are selected at regular intervals from a randomly ordered list. For example, selecting every 4th sudent from a list of students.\n",
    "\n",
    "#### Cluster Sampling:\n",
    "The population is divided into clusters and entire clusters are randomly selected."
   ]
  },
  {
   "cell_type": "markdown",
   "metadata": {},
   "source": [
    "### Importance of Random Sampling:-\n",
    "\n",
    "#### Representation:\n",
    "Random sampling helps ensure that the sample accurately reflects the characteristics of the population. By giving each individual an equal chance of being selected.\n",
    "\n",
    "#### Reduction of Bias:\n",
    "Non-random sampling methods can lead to systematic biases that skew the results. For example, if a survey only includes participants from a specific demographic.\n",
    "\n",
    "#### Statistical Validity:\n",
    "Many statistical methods and inferential techniques rely on the assumption that the sample is randomly selected. This allows researchers to apply probability theory to make inferences about the population.\n",
    "\n",
    "#### Generalizability:\n",
    "When a sample is drawn randomly, the findings can often be generalized to the larger population. This is crucial for policy-making, market research, and scientific studies.\n",
    "\n",
    "#### Estimation of Sampling Error:\n",
    "Random sampling allows for the estimation of sampling error, which is the difference between the sample statistic and the actual population parameter."
   ]
  },
  {
   "cell_type": "markdown",
   "metadata": {},
   "source": [
    "## Question-6. Explain the concept of skewness and its types. How does skewness affect the interpretation of data?"
   ]
  },
  {
   "cell_type": "markdown",
   "metadata": {},
   "source": [
    "Skewness is a statistical measure that describes the symmetry of a probability distribution. It indicates the direction and degree to which a distribution deviates from a symmetrical curve."
   ]
  },
  {
   "cell_type": "markdown",
   "metadata": {},
   "source": [
    "### Types of Skewness:-\n",
    "\n",
    "#### Zero Skewness (Symmetrical Distribution):\n",
    "In a symmetrical distribution, the tails on both sides are equal, and the distribution is balanced around the mean.\n",
    "The mean, median, and mode are all equal (Mean = Median = Mode).\n",
    "\n",
    "#### Positive Skewness:\n",
    "In a positively skewed distribution the tail on the right side of distribution.(Mean > Median > Mode)\n",
    "Example: Income distribution in a population where most people earn a modest salary, but a few individuals earn significantly higher amounts.\n",
    "\n",
    "#### Negative Skewness :\n",
    "In a negatively skewed distribution, the tail on the left side of distribution.(Mean < Median < Mode)\n",
    "Example: Age at retirement, where most individuals retire around a certain age, but a few retire much earlier."
   ]
  },
  {
   "cell_type": "markdown",
   "metadata": {},
   "source": [
    "### Effects of Skewness on Data Interpretation:-\n",
    "\n",
    "#### Central Tendency:\n",
    "Skewness affects the measures of central tendency. In skewed distributions it means may not accurately represent the central location of the data.\n",
    "\n",
    "#### Statistical Analysis:\n",
    "Many statistical tests, such as t-tests and ANOVA, assume that data are normally distributed. Skewed data can violate these assumptions, leading to incorrect conclusions.\n",
    "\n",
    "#### Interpretation of Variability:\n",
    "Skewness can influence the interpretation of variability. For instance, in a positively skewed distribution, the presence of outliers on the high end can inflate measures of variability.\n",
    "\n",
    "#### Data Visualization:\n",
    "Understanding skewness helps in choosing appropriate visualization methods. For example, histograms or box plots can provide insights into the skewness of the data."
   ]
  },
  {
   "cell_type": "markdown",
   "metadata": {},
   "source": [
    "### Use case:-\n",
    "=> If skewness is equal to zero this is a symmetric data\n",
    "\n",
    "=> If the skewness in between -1 to 1 it is moderately skewed\n",
    "\n",
    "=> If the value of skewness is below -1 and above 1 it is called as highly skewed."
   ]
  },
  {
   "cell_type": "markdown",
   "metadata": {},
   "source": [
    "## Question - 7. What is the interquartile range (IQR), and how is it used to detect outliers?"
   ]
  },
  {
   "cell_type": "markdown",
   "metadata": {},
   "source": [
    "The inter quartile range (IQR) is a measure of statistical dispersion that represents the range within which the middle 50% of a dataset lies. It is calculated as the difference between the third quartile (Q3) and the first quartile (Q1)."
   ]
  },
  {
   "cell_type": "markdown",
   "metadata": {},
   "source": [
    "### How IQR is Used to Detect Outliers\n",
    "Outliers are data points that lie significantly outside the overall pattern of the data. The IQR can be used to identify these outliers.\n",
    "\n",
    "Calculate Q1 and Q3: Determine the first and third quartiles of the dataset.\n",
    "\n",
    "Calculate the IQR: Subtract Q1 from Q3 to find the IQR.\n",
    "\n",
    "Determine the Outlier Boundaries:\n",
    "\n",
    "Calculate the lower boundary:\n",
    "Calculate the upper boundary:\n",
    "Identify Outliers: Any data points that fall below the lower boundary or above the upper boundary are considered outliers."
   ]
  },
  {
   "cell_type": "markdown",
   "metadata": {},
   "source": [
    "## Question- 8. Discuss the conditions under which the binomial distribution is used."
   ]
  },
  {
   "cell_type": "markdown",
   "metadata": {},
   "source": [
    "The binomial distribution is a discrete probability distribution that models the number of successes in a fixed number of independent Bernoulli trials, each with the same probability of success. It is widely used in statistics and probability theory for various applications."
   ]
  },
  {
   "cell_type": "markdown",
   "metadata": {},
   "source": [
    "### Conditions for Using the Binomial Distribution:-\n",
    "\n",
    "#### Fixed Number of Trials:\n",
    "The number of trials (n) must be predetermined and fixed. Each trial is an independent event.\n",
    "\n",
    "#### Two Possible Outcomes:\n",
    "Each trial must have only two possible outcomes.\n",
    "\n",
    "#### Constant Probability of Success:\n",
    "The probability of success (p) must remain constant across all trials.\n",
    "\n",
    "#### Independence of Trials:\n",
    "The trials must be independent. This means that the outcome of one trial does not influence the outcome of another trial."
   ]
  },
  {
   "cell_type": "markdown",
   "metadata": {},
   "source": [
    "## Question-9. Explain the properties of the normal distribution and the empirical rule (68-95-99.7 rule)."
   ]
  },
  {
   "cell_type": "markdown",
   "metadata": {},
   "source": [
    "The normal distribution, also known as the Gaussian distribution, is a continuous probability distribution that is symmetric about its mean."
   ]
  },
  {
   "cell_type": "markdown",
   "metadata": {},
   "source": [
    "### Properties of the Normal Distribution\n",
    "\n",
    "#### Symmetry:\n",
    "The normal distribution is perfectly symmetric around its mean. This means that the left half of the distribution is a mirror image of the right half.\n",
    "\n",
    "#### Bell-Shaped Curve:\n",
    "The graph of the normal distribution is bell-shaped, with the highest point at the mean.\n",
    "\n",
    "#### Mean, Median, and Mode:\n",
    "In a normal distribution, the mean, median, and mode are all equal. They are located at the center of the distribution.\n",
    "\n",
    "#### Defined by Two Parameters:\n",
    "The normal distribution is completely defined by its mean and standard deviation . The mean determines the center of the distribution, while the standard deviation determines the spread of the data.\n",
    "\n",
    "#### Asymptotic:\n",
    "The tails of the normal distribution approach but never quite touch the horizontal axis. This means that there is always a non-zero probability of extreme values.\n",
    "\n",
    "### Total Area Under the Curve:\n",
    "The total area under the normal distribution curve is equal to 1, representing the total probability of all possible outcomes."
   ]
  },
  {
   "cell_type": "markdown",
   "metadata": {},
   "source": [
    "### The Empirical Rule (68-95-99.7 Rule):-\n",
    "The empirical rule provides a quick way to understand the distribution of data in a normal distribution.\n",
    "\n",
    "#### 68% of the Data:\n",
    "Approximately 68% of the data falls within one standard deviation of the mean. This means that if we take the mean and add or subtract one standard deviation we will capture about 68% of the observations.\n",
    "\n",
    "#### 95% of the Data:\n",
    "Approximately 95% of the data falls within two standard deviations of the mean. This means that if we take the mean and add or subtract two standard deviations we will capture about 95% of the observations.\n",
    "\n",
    "#### 99.7% of the Data:\n",
    "Approximately 99.7% of the data falls within three standard deviations of the mean. This means that if we take the mean and add or subtract three standard deviations we will capture about 99.7% of the observations.\n"
   ]
  },
  {
   "cell_type": "markdown",
   "metadata": {},
   "source": [
    "## Question-10. Provide a real-life example of a Poisson process and calculate the probability for a specific event."
   ]
  },
  {
   "cell_type": "markdown",
   "metadata": {},
   "source": [
    "A Poisson process is a statistical process that models the occurrence of events happening independently and at a constant average rate over a specified period of time or space. One common real-life example of a Poisson process is the arrival of customers at a coffee shop."
   ]
  },
  {
   "cell_type": "markdown",
   "metadata": {},
   "source": [
    "#### Example\n",
    "Let's say a coffee shop observes that on average 5 customers arrive every hour. We can model the arrivals of customers as a Poisson process with a rate customers per hour."
   ]
  },
  {
   "cell_type": "markdown",
   "metadata": {},
   "source": [
    "### Specific Event:-\n",
    "We want to calculate the probability that exactly 3 customers arrive at the coffee shop in a 1-hour period."
   ]
  },
  {
   "cell_type": "markdown",
   "metadata": {},
   "source": [
    "### Probability Calculation for Specific Event:-\n",
    "The probability of observing ( n ) events in a Poisson process can be calculated using the formula:\n",
    "$$P(X = n) = \\frac{e^{-\\lambda} \\cdot \\lambda^n}{n!}$$\n"
   ]
  },
  {
   "cell_type": "markdown",
   "metadata": {},
   "source": [
    "=> P(X = n) is the probability of observing n events.\n",
    "\n",
    "=>  \"λ\" is the average rate of events (5 customers per hour)\n",
    "\n",
    "=> n is the number of events we want to find the probability for (3 customers per hour)\n",
    "\n",
    "=> ( e ) is Euler's number"
   ]
  },
  {
   "cell_type": "markdown",
   "metadata": {},
   "source": [
    "### Substituting the values into the formula:-\n",
    "\n",
    "$$ P(X = 3) = \\frac{e^{-5} \\cdot 5^3}{3!} $$"
   ]
  },
  {
   "cell_type": "markdown",
   "metadata": {},
   "source": [
    "$$ P(X = 3) = \\frac{e^{-5} \\cdot 125}{6} $$"
   ]
  },
  {
   "cell_type": "markdown",
   "metadata": {},
   "source": [
    "$$(e^{-5} ) = [ e^{-5} = \\frac{1}{e^5} = \\frac{1}{148.4132} = 0.006737947 ]$$"
   ]
  },
  {
   "cell_type": "markdown",
   "metadata": {},
   "source": [
    "$$( 125 \\div 6 ) = [ \\frac{125}{6} = 20.8333 ]$$"
   ]
  },
  {
   "cell_type": "markdown",
   "metadata": {},
   "source": [
    "$$  P(X = 3) = e^{-5} * \\frac{125}{6}$$"
   ]
  },
  {
   "cell_type": "markdown",
   "metadata": {},
   "source": [
    "$$ P(X = 3)= 0.006737947 * 20.8333 = 0.140373 $$"
   ]
  },
  {
   "cell_type": "markdown",
   "metadata": {},
   "source": [
    "## Question-11. Explain what a random variable is and differentiate between discrete and continuous random variables."
   ]
  },
  {
   "cell_type": "markdown",
   "metadata": {},
   "source": [
    "It is a set of possible values from a random expeeriment.Random variable is a numerical outcomeS of a random phenomenon. It is a function that assigns a real number to each outcome in a sample space of a random experiment. Random variables are used to quantify uncertain outcomes."
   ]
  },
  {
   "cell_type": "markdown",
   "metadata": {},
   "source": [
    "### Discrete Random Variables:-\n",
    "A discrete random variable is a countable number of distinct values. These values are often whole numbers and there is a clear separation between each possible value.\n",
    "\n",
    "#### Examples of discrete random variables:-\n",
    "* The number of head outcomes when tossing a coin.\n",
    "* The number of students in a classroom.\n",
    "* The outcome of rolling a dice .\n",
    "\n",
    "Discrete random variables are used described using a probability mass function (PMF)."
   ]
  },
  {
   "cell_type": "markdown",
   "metadata": {},
   "source": [
    "### Continuous Random Variables:-\n",
    "A continuous random variable on the other hand can take on an infinite number of possible values within a given range. These values are not countable and can include fractions and decimals.\n",
    "\n",
    "#### Examples of continuous random variables:\n",
    "* The height of Students in a class.\n",
    "* The time it takes to run a race .\n",
    "* The temperature in a city.\n",
    "\n",
    "Continuous random variables are described using a probability density function (PDF)"
   ]
  },
  {
   "cell_type": "markdown",
   "metadata": {},
   "source": [
    "## Question-12. Provide an example dataset, calculate both covariance and correlation, and interpret the results."
   ]
  },
  {
   "cell_type": "code",
   "execution_count": null,
   "metadata": {},
   "outputs": [],
   "source": [
    "import pandas as pd"
   ]
  },
  {
   "cell_type": "code",
   "execution_count": 2,
   "metadata": {},
   "outputs": [],
   "source": [
    "data = {\n",
    "    'Index': [1, 2, 3, 4, 5],\n",
    "    'X': [2, 4, 6, 8, 10],\n",
    "    'Y': [3, 5, 7, 9, 11]\n",
    "}"
   ]
  },
  {
   "cell_type": "code",
   "execution_count": 3,
   "metadata": {},
   "outputs": [],
   "source": [
    "df = pd.DataFrame(data)"
   ]
  },
  {
   "cell_type": "code",
   "execution_count": 4,
   "metadata": {},
   "outputs": [
    {
     "data": {
      "text/html": [
       "<div>\n",
       "<style scoped>\n",
       "    .dataframe tbody tr th:only-of-type {\n",
       "        vertical-align: middle;\n",
       "    }\n",
       "\n",
       "    .dataframe tbody tr th {\n",
       "        vertical-align: top;\n",
       "    }\n",
       "\n",
       "    .dataframe thead th {\n",
       "        text-align: right;\n",
       "    }\n",
       "</style>\n",
       "<table border=\"1\" class=\"dataframe\">\n",
       "  <thead>\n",
       "    <tr style=\"text-align: right;\">\n",
       "      <th></th>\n",
       "      <th>Index</th>\n",
       "      <th>X</th>\n",
       "      <th>Y</th>\n",
       "    </tr>\n",
       "  </thead>\n",
       "  <tbody>\n",
       "    <tr>\n",
       "      <th>0</th>\n",
       "      <td>1</td>\n",
       "      <td>2</td>\n",
       "      <td>3</td>\n",
       "    </tr>\n",
       "    <tr>\n",
       "      <th>1</th>\n",
       "      <td>2</td>\n",
       "      <td>4</td>\n",
       "      <td>5</td>\n",
       "    </tr>\n",
       "    <tr>\n",
       "      <th>2</th>\n",
       "      <td>3</td>\n",
       "      <td>6</td>\n",
       "      <td>7</td>\n",
       "    </tr>\n",
       "    <tr>\n",
       "      <th>3</th>\n",
       "      <td>4</td>\n",
       "      <td>8</td>\n",
       "      <td>9</td>\n",
       "    </tr>\n",
       "    <tr>\n",
       "      <th>4</th>\n",
       "      <td>5</td>\n",
       "      <td>10</td>\n",
       "      <td>11</td>\n",
       "    </tr>\n",
       "  </tbody>\n",
       "</table>\n",
       "</div>"
      ],
      "text/plain": [
       "   Index   X   Y\n",
       "0      1   2   3\n",
       "1      2   4   5\n",
       "2      3   6   7\n",
       "3      4   8   9\n",
       "4      5  10  11"
      ]
     },
     "execution_count": 4,
     "metadata": {},
     "output_type": "execute_result"
    }
   ],
   "source": [
    "df"
   ]
  },
  {
   "cell_type": "markdown",
   "metadata": {},
   "source": [
    "### Calculate Covariance\n",
    "The formula for covariance between two variables (X) and (Y) is\n",
    "$$ \\text{Cov}(X, Y) = \\frac{1}{n-1} \\sum_{i=1}^{n} (X_i - \\bar{X})(Y_i - \\bar{Y}) $$"
   ]
  },
  {
   "cell_type": "code",
   "execution_count": 10,
   "metadata": {},
   "outputs": [
    {
     "data": {
      "text/html": [
       "<div>\n",
       "<style scoped>\n",
       "    .dataframe tbody tr th:only-of-type {\n",
       "        vertical-align: middle;\n",
       "    }\n",
       "\n",
       "    .dataframe tbody tr th {\n",
       "        vertical-align: top;\n",
       "    }\n",
       "\n",
       "    .dataframe thead th {\n",
       "        text-align: right;\n",
       "    }\n",
       "</style>\n",
       "<table border=\"1\" class=\"dataframe\">\n",
       "  <thead>\n",
       "    <tr style=\"text-align: right;\">\n",
       "      <th></th>\n",
       "      <th>Index</th>\n",
       "      <th>X</th>\n",
       "      <th>Y</th>\n",
       "    </tr>\n",
       "  </thead>\n",
       "  <tbody>\n",
       "    <tr>\n",
       "      <th>Index</th>\n",
       "      <td>2.5</td>\n",
       "      <td>5.0</td>\n",
       "      <td>5.0</td>\n",
       "    </tr>\n",
       "    <tr>\n",
       "      <th>X</th>\n",
       "      <td>5.0</td>\n",
       "      <td>10.0</td>\n",
       "      <td>10.0</td>\n",
       "    </tr>\n",
       "    <tr>\n",
       "      <th>Y</th>\n",
       "      <td>5.0</td>\n",
       "      <td>10.0</td>\n",
       "      <td>10.0</td>\n",
       "    </tr>\n",
       "  </tbody>\n",
       "</table>\n",
       "</div>"
      ],
      "text/plain": [
       "       Index     X     Y\n",
       "Index    2.5   5.0   5.0\n",
       "X        5.0  10.0  10.0\n",
       "Y        5.0  10.0  10.0"
      ]
     },
     "execution_count": 10,
     "metadata": {},
     "output_type": "execute_result"
    }
   ],
   "source": [
    "df.cov(numeric_only=True)"
   ]
  },
  {
   "cell_type": "markdown",
   "metadata": {},
   "source": [
    "### Calculate Correlation\n",
    "The formula for the correlation coefficient (r) is\n",
    "$$ r = \\frac{\\text{Cov}(X, Y)}{\\sigma_X \\sigma_Y}$$"
   ]
  },
  {
   "cell_type": "code",
   "execution_count": 11,
   "metadata": {},
   "outputs": [
    {
     "data": {
      "text/html": [
       "<div>\n",
       "<style scoped>\n",
       "    .dataframe tbody tr th:only-of-type {\n",
       "        vertical-align: middle;\n",
       "    }\n",
       "\n",
       "    .dataframe tbody tr th {\n",
       "        vertical-align: top;\n",
       "    }\n",
       "\n",
       "    .dataframe thead th {\n",
       "        text-align: right;\n",
       "    }\n",
       "</style>\n",
       "<table border=\"1\" class=\"dataframe\">\n",
       "  <thead>\n",
       "    <tr style=\"text-align: right;\">\n",
       "      <th></th>\n",
       "      <th>Index</th>\n",
       "      <th>X</th>\n",
       "      <th>Y</th>\n",
       "    </tr>\n",
       "  </thead>\n",
       "  <tbody>\n",
       "    <tr>\n",
       "      <th>Index</th>\n",
       "      <td>1.0</td>\n",
       "      <td>1.0</td>\n",
       "      <td>1.0</td>\n",
       "    </tr>\n",
       "    <tr>\n",
       "      <th>X</th>\n",
       "      <td>1.0</td>\n",
       "      <td>1.0</td>\n",
       "      <td>1.0</td>\n",
       "    </tr>\n",
       "    <tr>\n",
       "      <th>Y</th>\n",
       "      <td>1.0</td>\n",
       "      <td>1.0</td>\n",
       "      <td>1.0</td>\n",
       "    </tr>\n",
       "  </tbody>\n",
       "</table>\n",
       "</div>"
      ],
      "text/plain": [
       "       Index    X    Y\n",
       "Index    1.0  1.0  1.0\n",
       "X        1.0  1.0  1.0\n",
       "Y        1.0  1.0  1.0"
      ]
     },
     "execution_count": 11,
     "metadata": {},
     "output_type": "execute_result"
    }
   ],
   "source": [
    "df.corr(numeric_only=True)"
   ]
  },
  {
   "cell_type": "code",
   "execution_count": 1,
   "metadata": {},
   "outputs": [],
   "source": [
    "# --------END-----------"
   ]
  }
 ],
 "metadata": {
  "kernelspec": {
   "display_name": "Python 3",
   "language": "python",
   "name": "python3"
  },
  "language_info": {
   "codemirror_mode": {
    "name": "ipython",
    "version": 3
   },
   "file_extension": ".py",
   "mimetype": "text/x-python",
   "name": "python",
   "nbconvert_exporter": "python",
   "pygments_lexer": "ipython3",
   "version": "3.11.5"
  }
 },
 "nbformat": 4,
 "nbformat_minor": 2
}
